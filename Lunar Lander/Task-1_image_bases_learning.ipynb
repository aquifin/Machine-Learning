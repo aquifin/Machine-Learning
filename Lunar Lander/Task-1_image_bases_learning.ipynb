{
 "cells": [
  {
   "cell_type": "markdown",
   "metadata": {
    "colab_type": "text",
    "id": "xel9HQewacLT"
   },
   "source": [
    "# Task-1 Image Bases Learning"
   ]
  },
  {
   "cell_type": "markdown",
   "metadata": {
    "colab_type": "text",
    "id": "6EcCBrtzacLU"
   },
   "source": [
    "### Import Packages"
   ]
  },
  {
   "cell_type": "code",
   "execution_count": 1,
   "metadata": {
    "colab": {
     "base_uri": "https://localhost:8080/",
     "height": 35
    },
    "colab_type": "code",
    "id": "OBUTtdabacLV",
    "outputId": "408dc55a-c817-4ac3-b87b-7b3e7d89c729"
   },
   "outputs": [
    {
     "name": "stderr",
     "output_type": "stream",
     "text": [
      "Using TensorFlow backend.\n"
     ]
    }
   ],
   "source": [
    "import keras\n",
    "from keras.models import Sequential\n",
    "from keras.layers import Dense, Activation, Dropout, Conv2D, MaxPooling2D,MaxPooling1D, Flatten,Conv1D\n",
    "from keras.utils import np_utils\n",
    "from keras import backend as K\n",
    "from keras.utils.np_utils import to_categorical\n",
    "from keras.utils.vis_utils import model_to_dot\n",
    "from keras.wrappers.scikit_learn import KerasClassifier\n",
    "from keras.preprocessing.image import ImageDataGenerator\n",
    "from keras.optimizers import RMSprop, adam\n",
    "from keras import backend as K\n",
    "from keras.utils import np_utils\n",
    "from keras.callbacks import ModelCheckpoint\n",
    "\n",
    "import sklearn\n",
    "from sklearn.tree import export_graphviz\n",
    "from sklearn import metrics\n",
    "from sklearn.model_selection import GridSearchCV\n",
    "from sklearn.model_selection import cross_val_score\n",
    "from sklearn.model_selection import train_test_split\n",
    "from sklearn import preprocessing \n",
    "from sklearn.utils import shuffle\n",
    "from sklearn.utils import class_weight\n",
    "\n",
    "from IPython.display import SVG\n",
    "\n",
    "import csv\n",
    "import os \n",
    "import cv2\n",
    "import random\n",
    "import numpy as np\n",
    "import pandas as pd\n",
    "import matplotlib.pyplot as plt\n",
    "import seaborn as sns\n",
    "%matplotlib inline \n",
    "import scipy as sp\n",
    "import PIL\n",
    "\n",
    "from imblearn.over_sampling import RandomOverSampler"
   ]
  },
  {
   "cell_type": "markdown",
   "metadata": {},
   "source": [
    "### Reading the file names"
   ]
  },
  {
   "cell_type": "code",
   "execution_count": 0,
   "metadata": {
    "colab": {},
    "colab_type": "code",
    "id": "dsZv4Pq7acLY"
   },
   "outputs": [],
   "source": [
    "# Dataset\n",
    "train_data_dir = 'LunarLanderFramesPart1/'\n",
    "\n",
    "# Set up some parmaeters for data loading\n",
    "sample_rate = 0.1\n",
    "\n",
    "# Desired dimensions of our images.\n",
    "img_width, img_height = 150, 150\n",
    "\n",
    "# Different backends (e.g. tensorflow and theano) use different orderings for image data - fix this!\n",
    "if K.image_data_format() == 'channels_first':\n",
    "    input_shape = (3, img_width, img_height)\n",
    "else:\n",
    "    input_shape = (img_width, img_height, 3)\n",
    "\n",
    "    \n",
    "# Different moves of lunar ship are stored in dictionary\n",
    "moves={'0':'none',\n",
    "       '1':'up',\n",
    "       '2':'left',\n",
    "       '3':'right'}\n",
    "    \n",
    "\n",
    "image_filenames = [train_data_dir+i for i in os.listdir(train_data_dir) if not i.startswith('.')] # use this for full dataset\n",
    "image_filenames = random.sample(image_filenames, int(len(image_filenames)*sample_rate)) #randomly sample the data\n"
   ]
  },
  {
   "cell_type": "markdown",
   "metadata": {},
   "source": [
    "### Colour image and imbalanced data \n",
    "\n",
    "Images used for training are coloured images and imbalnce class is not handelled "
   ]
  },
  {
   "cell_type": "markdown",
   "metadata": {},
   "source": [
    "Reading images in array"
   ]
  },
  {
   "cell_type": "code",
   "execution_count": 3,
   "metadata": {
    "colab": {
     "base_uri": "https://localhost:8080/",
     "height": 139
    },
    "colab_type": "code",
    "id": "_RqIuqxuacLb",
    "outputId": "5adeffb2-3d31-44b1-c670-6003d951b864"
   },
   "outputs": [
    {
     "name": "stdout",
     "output_type": "stream",
     "text": [
      "Processed 0 images\n",
      "Processed 1000 images\n",
      "Processed 2000 images\n",
      "Processed 3000 images\n",
      "Processed 4000 images\n",
      "Processed 5000 images\n",
      "Processed 6000 images\n"
     ]
    }
   ],
   "source": [
    "count = len(image_filenames)\n",
    "\n",
    "# Initialise arrays for data storage\n",
    "X_data = np.ndarray((count, input_shape[0], input_shape[1], input_shape[2]), dtype=np.float)\n",
    "y_data= np.ndarray(0, dtype=np.str)\n",
    "\n",
    "\n",
    "# Iterate through the filenames and for each one load the image, resize and normalise\n",
    "for i, image_file in enumerate(image_filenames):\n",
    "\n",
    "    # Load the images and resize them\n",
    "    image = cv2.imread(image_file, cv2.IMREAD_COLOR)\n",
    "    image = cv2.resize(image,(img_height, img_width), interpolation=cv2.INTER_CUBIC)\n",
    "    image = image[:,:,[2,1,0]] # OpenCV and matplotlib use different channel orderings so fix this\n",
    "\n",
    "    # If channel order of network does not match open cv format swap it\n",
    "    if K.image_data_format() == 'channels_first':\n",
    "        image=np.swapaxes(np.swapaxes(image, 1, 2), 0, 1)\n",
    "\n",
    "    # Add image data to data array and normalise\n",
    "    X_data[i] = image\n",
    "    X_data[i] = X_data[i]/255\n",
    "\n",
    "    # Add label to label array\n",
    "    lb = moves[image_file[-6]]\n",
    "        \n",
    "    y_data = np.append(y_data, lb)\n",
    "\n",
    "    if i%1000 == 0: print('Processed {} images'.format(i))\n"
   ]
  },
  {
   "cell_type": "markdown",
   "metadata": {
    "colab": {},
    "colab_type": "code",
    "id": "rsS0XH2KS5u5"
   },
   "source": [
    "Split data into train and test"
   ]
  },
  {
   "cell_type": "code",
   "execution_count": 0,
   "metadata": {
    "colab": {},
    "colab_type": "code",
    "id": "X8jtCmwjacLf"
   },
   "outputs": [],
   "source": [
    "# Perfrom split to train, validate and test\n",
    "X_train, X_test, y_train, y_test = train_test_split(X_data, y_data, random_state=0, test_size = 0.30, train_size = 0.7)"
   ]
  },
  {
   "cell_type": "code",
   "execution_count": 0,
   "metadata": {
    "colab": {},
    "colab_type": "code",
    "id": "Vs02yehPacLi"
   },
   "outputs": [],
   "source": [
    "task_accuracy_comparisons = {}\n",
    "\n",
    "batch_size = 128\n",
    "epochs = 100\n"
   ]
  },
  {
   "cell_type": "markdown",
   "metadata": {},
   "source": [
    "Plot few images for testing "
   ]
  },
  {
   "cell_type": "code",
   "execution_count": 6,
   "metadata": {
    "colab": {
     "base_uri": "https://localhost:8080/",
     "height": 1171
    },
    "colab_type": "code",
    "id": "LT5EJz9XacLk",
    "outputId": "d9fc1784-54ea-4f87-c7e5-74db9167be00"
   },
   "outputs": [
    {
     "data": {
      "image/png": "[encoded data removed]",
      "text/plain": [
       "<Figure size 1440x1440 with 25 Axes>"
      ]
     },
     "metadata": {
      "tags": []
     },
     "output_type": "display_data"
    }
   ],
   "source": [
    "pltsize=4\n",
    "row_images = 5\n",
    "col_images = 5\n",
    "plt.figure(figsize=(col_images*pltsize, row_images*pltsize))\n",
    "\n",
    "for i in range(row_images * col_images):\n",
    "    i_rand = random.randint(0, X_train.shape[0])\n",
    "    plt.subplot(row_images,col_images,i+1)\n",
    "    plt.axis('off')\n",
    "    plt.imshow((X_train[i_rand]))\n",
    "    plt.title((str(i_rand) + \" \" + y_train[i_rand]))   "
   ]
  },
  {
   "cell_type": "code",
   "execution_count": 0,
   "metadata": {
    "colab": {},
    "colab_type": "code",
    "id": "jquKSBI6acLo"
   },
   "outputs": [],
   "source": [
    "# Convert class vectors to binary class matrices.\n",
    "num_classes = 4\n",
    "y_train_encoder = sklearn.preprocessing.LabelEncoder()\n",
    "y_train_num = y_train_encoder.fit_transform(y_train)\n",
    "y_train_wide = keras.utils.to_categorical(y_train_num,num_classes)\n",
    "\n",
    "y_test_num = y_train_encoder.fit_transform(y_test)\n",
    "y_test_wide = keras.utils.to_categorical(y_test_num, num_classes)"
   ]
  },
  {
   "cell_type": "markdown",
   "metadata": {},
   "source": [
    "Create model"
   ]
  },
  {
   "cell_type": "code",
   "execution_count": 8,
   "metadata": {
    "colab": {
     "base_uri": "https://localhost:8080/",
     "height": 783
    },
    "colab_type": "code",
    "id": "au859nkoacLq",
    "outputId": "4a947efe-00be-48c4-c21e-0a693ba75c85",
    "scrolled": true
   },
   "outputs": [
    {
     "name": "stdout",
     "output_type": "stream",
     "text": [
      "WARNING:tensorflow:From /usr/local/lib/python3.6/dist-packages/tensorflow/python/framework/op_def_library.py:263: colocate_with (from tensorflow.python.framework.ops) is deprecated and will be removed in a future version.\n",
      "Instructions for updating:\n",
      "Colocations handled automatically by placer.\n",
      "WARNING:tensorflow:From /usr/local/lib/python3.6/dist-packages/keras/backend/tensorflow_backend.py:3445: calling dropout (from tensorflow.python.ops.nn_ops) with keep_prob is deprecated and will be removed in a future version.\n",
      "Instructions for updating:\n",
      "Please use `rate` instead of `keep_prob`. Rate should be set to `rate = 1 - keep_prob`.\n",
      "_________________________________________________________________\n",
      "Layer (type)                 Output Shape              Param #   \n",
      "=================================================================\n",
      "conv2d_1 (Conv2D)            (None, 148, 148, 32)      896       \n",
      "_________________________________________________________________\n",
      "activation_1 (Activation)    (None, 148, 148, 32)      0         \n",
      "_________________________________________________________________\n",
      "max_pooling2d_1 (MaxPooling2 (None, 74, 74, 32)        0         \n",
      "_________________________________________________________________\n",
      "conv2d_2 (Conv2D)            (None, 72, 72, 32)        9248      \n",
      "_________________________________________________________________\n",
      "activation_2 (Activation)    (None, 72, 72, 32)        0         \n",
      "_________________________________________________________________\n",
      "max_pooling2d_2 (MaxPooling2 (None, 36, 36, 32)        0         \n",
      "_________________________________________________________________\n",
      "conv2d_3 (Conv2D)            (None, 34, 34, 64)        18496     \n",
      "_________________________________________________________________\n",
      "activation_3 (Activation)    (None, 34, 34, 64)        0         \n",
      "_________________________________________________________________\n",
      "max_pooling2d_3 (MaxPooling2 (None, 17, 17, 64)        0         \n",
      "_________________________________________________________________\n",
      "flatten_1 (Flatten)          (None, 18496)             0         \n",
      "_________________________________________________________________\n",
      "dense_1 (Dense)              (None, 256)               4735232   \n",
      "_________________________________________________________________\n",
      "activation_4 (Activation)    (None, 256)               0         \n",
      "_________________________________________________________________\n",
      "dropout_1 (Dropout)          (None, 256)               0         \n",
      "_________________________________________________________________\n",
      "dense_2 (Dense)              (None, 4)                 1028      \n",
      "_________________________________________________________________\n",
      "activation_5 (Activation)    (None, 4)                 0         \n",
      "=================================================================\n",
      "Total params: 4,764,900\n",
      "Trainable params: 4,764,900\n",
      "Non-trainable params: 0\n",
      "_________________________________________________________________\n"
     ]
    }
   ],
   "source": [
    "model = Sequential()\n",
    "model.add(Conv2D(32, (3, 3), input_shape=input_shape))\n",
    "model.add(Activation('relu'))\n",
    "model.add(MaxPooling2D(pool_size=(2, 2)))\n",
    "\n",
    "model.add(Conv2D(32, (3, 3)))\n",
    "model.add(Activation('relu'))\n",
    "model.add(MaxPooling2D(pool_size=(2, 2)))\n",
    "\n",
    "model.add(Conv2D(64, (3, 3)))\n",
    "model.add(Activation('relu'))\n",
    "model.add(MaxPooling2D(pool_size=(2, 2)))\n",
    "\n",
    "model.add(Flatten())\n",
    "model.add(Dense(256))\n",
    "model.add(Activation('relu'))\n",
    "model.add(Dropout(0.5))\n",
    "model.add(Dense(num_classes))\n",
    "model.add(Activation('softmax'))\n",
    "\n",
    "model.compile(loss='binary_crossentropy',\n",
    "              optimizer='adam',\n",
    "              metrics=['accuracy'])\n",
    "\n",
    "model.summary()"
   ]
  },
  {
   "cell_type": "markdown",
   "metadata": {},
   "source": [
    "Fit the model"
   ]
  },
  {
   "cell_type": "code",
   "execution_count": 9,
   "metadata": {
    "colab": {
     "base_uri": "https://localhost:8080/",
     "height": 3573
    },
    "colab_type": "code",
    "id": "OhDBbJIBacLu",
    "outputId": "678ca28e-a396-42b2-cd9a-edb9f316f2d5"
   },
   "outputs": [
    {
     "name": "stdout",
     "output_type": "stream",
     "text": [
      "WARNING:tensorflow:From /usr/local/lib/python3.6/dist-packages/tensorflow/python/ops/math_ops.py:3066: to_int32 (from tensorflow.python.ops.math_ops) is deprecated and will be removed in a future version.\n",
      "Instructions for updating:\n",
      "Use tf.cast instead.\n",
      "Train on 3564 samples, validate on 892 samples\n",
      "Epoch 1/100\n",
      "3564/3564 [==============================] - 12s 3ms/step - loss: 0.4114 - acc: 0.8003 - val_loss: 0.3571 - val_acc: 0.8445\n",
      "Epoch 2/100\n",
      "3564/3564 [==============================] - 3s 945us/step - loss: 0.3292 - acc: 0.8581 - val_loss: 0.3258 - val_acc: 0.8579\n",
      "Epoch 3/100\n",
      "3564/3564 [==============================] - 3s 941us/step - loss: 0.3037 - acc: 0.8671 - val_loss: 0.3100 - val_acc: 0.8613\n",
      "Epoch 4/100\n",
      "3564/3564 [==============================] - 3s 934us/step - loss: 0.2881 - acc: 0.8749 - val_loss: 0.2998 - val_acc: 0.8672\n",
      "Epoch 5/100\n",
      "3564/3564 [==============================] - 3s 941us/step - loss: 0.2709 - acc: 0.8803 - val_loss: 0.2863 - val_acc: 0.8809\n",
      "Epoch 6/100\n",
      "3564/3564 [==============================] - 3s 934us/step - loss: 0.2483 - acc: 0.8893 - val_loss: 0.2743 - val_acc: 0.8910\n",
      "Epoch 7/100\n",
      "3564/3564 [==============================] - 3s 928us/step - loss: 0.2362 - acc: 0.8963 - val_loss: 0.2785 - val_acc: 0.8885\n",
      "Epoch 8/100\n",
      "3564/3564 [==============================] - 3s 920us/step - loss: 0.2156 - acc: 0.9105 - val_loss: 0.2783 - val_acc: 0.8915\n",
      "Epoch 9/100\n",
      "3564/3564 [==============================] - 3s 919us/step - loss: 0.2038 - acc: 0.9174 - val_loss: 0.3212 - val_acc: 0.8834\n",
      "Epoch 10/100\n",
      "3564/3564 [==============================] - 3s 914us/step - loss: 0.2012 - acc: 0.9189 - val_loss: 0.2754 - val_acc: 0.8957\n",
      "Epoch 11/100\n",
      "3564/3564 [==============================] - 3s 922us/step - loss: 0.1848 - acc: 0.9249 - val_loss: 0.2783 - val_acc: 0.8988\n",
      "Epoch 12/100\n",
      "3564/3564 [==============================] - 3s 916us/step - loss: 0.1770 - acc: 0.9301 - val_loss: 0.3006 - val_acc: 0.8949\n",
      "Epoch 13/100\n",
      "3564/3564 [==============================] - 3s 928us/step - loss: 0.1607 - acc: 0.9342 - val_loss: 0.3107 - val_acc: 0.8966\n",
      "Epoch 14/100\n",
      "3564/3564 [==============================] - 3s 925us/step - loss: 0.1520 - acc: 0.9407 - val_loss: 0.3303 - val_acc: 0.8943\n",
      "Epoch 15/100\n",
      "3564/3564 [==============================] - 3s 922us/step - loss: 0.1483 - acc: 0.9431 - val_loss: 0.3291 - val_acc: 0.8966\n",
      "Epoch 16/100\n",
      "3564/3564 [==============================] - 3s 926us/step - loss: 0.1325 - acc: 0.9465 - val_loss: 0.3630 - val_acc: 0.8910\n",
      "Epoch 17/100\n",
      "3564/3564 [==============================] - 3s 921us/step - loss: 0.1253 - acc: 0.9508 - val_loss: 0.3405 - val_acc: 0.8885\n",
      "Epoch 18/100\n",
      "3564/3564 [==============================] - 3s 943us/step - loss: 0.1184 - acc: 0.9517 - val_loss: 0.4230 - val_acc: 0.8910\n",
      "Epoch 19/100\n",
      "3564/3564 [==============================] - 3s 926us/step - loss: 0.1150 - acc: 0.9531 - val_loss: 0.3662 - val_acc: 0.8929\n",
      "Epoch 20/100\n",
      "3564/3564 [==============================] - 3s 915us/step - loss: 0.1032 - acc: 0.9578 - val_loss: 0.3899 - val_acc: 0.8865\n",
      "Epoch 21/100\n",
      "3564/3564 [==============================] - 3s 918us/step - loss: 0.0964 - acc: 0.9626 - val_loss: 0.3999 - val_acc: 0.8859\n",
      "Epoch 22/100\n",
      "3564/3564 [==============================] - 3s 917us/step - loss: 0.0886 - acc: 0.9672 - val_loss: 0.4268 - val_acc: 0.8969\n",
      "Epoch 23/100\n",
      "3564/3564 [==============================] - 3s 917us/step - loss: 0.0781 - acc: 0.9701 - val_loss: 0.4386 - val_acc: 0.8854\n",
      "Epoch 24/100\n",
      "3564/3564 [==============================] - 3s 921us/step - loss: 0.0731 - acc: 0.9700 - val_loss: 0.4631 - val_acc: 0.8910\n",
      "Epoch 25/100\n",
      "3564/3564 [==============================] - 3s 920us/step - loss: 0.0711 - acc: 0.9719 - val_loss: 0.5110 - val_acc: 0.8921\n",
      "Epoch 26/100\n",
      "3564/3564 [==============================] - 3s 913us/step - loss: 0.0688 - acc: 0.9744 - val_loss: 0.5255 - val_acc: 0.8885\n",
      "Epoch 27/100\n",
      "3564/3564 [==============================] - 3s 918us/step - loss: 0.0608 - acc: 0.9776 - val_loss: 0.5395 - val_acc: 0.8885\n",
      "Epoch 28/100\n",
      "3564/3564 [==============================] - 3s 919us/step - loss: 0.0541 - acc: 0.9785 - val_loss: 0.5355 - val_acc: 0.8848\n",
      "Epoch 29/100\n",
      "3564/3564 [==============================] - 3s 941us/step - loss: 0.0552 - acc: 0.9793 - val_loss: 0.5634 - val_acc: 0.8837\n",
      "Epoch 30/100\n",
      "3564/3564 [==============================] - 3s 942us/step - loss: 0.0499 - acc: 0.9818 - val_loss: 0.5420 - val_acc: 0.8910\n",
      "Epoch 31/100\n",
      "3564/3564 [==============================] - 3s 926us/step - loss: 0.0486 - acc: 0.9803 - val_loss: 0.5757 - val_acc: 0.8828\n",
      "Epoch 32/100\n",
      "3564/3564 [==============================] - 3s 918us/step - loss: 0.0448 - acc: 0.9844 - val_loss: 0.6124 - val_acc: 0.8834\n",
      "Epoch 33/100\n",
      "3564/3564 [==============================] - 3s 921us/step - loss: 0.0433 - acc: 0.9820 - val_loss: 0.5765 - val_acc: 0.8887\n",
      "Epoch 34/100\n",
      "3564/3564 [==============================] - 3s 918us/step - loss: 0.0361 - acc: 0.9858 - val_loss: 0.6607 - val_acc: 0.8887\n",
      "Epoch 35/100\n",
      "3564/3564 [==============================] - 3s 918us/step - loss: 0.0323 - acc: 0.9879 - val_loss: 0.6469 - val_acc: 0.8817\n",
      "Epoch 36/100\n",
      "3564/3564 [==============================] - 3s 923us/step - loss: 0.0329 - acc: 0.9886 - val_loss: 0.6473 - val_acc: 0.8837\n",
      "Epoch 37/100\n",
      "3564/3564 [==============================] - 3s 918us/step - loss: 0.0303 - acc: 0.9886 - val_loss: 0.6728 - val_acc: 0.8817\n",
      "Epoch 38/100\n",
      "3564/3564 [==============================] - 3s 914us/step - loss: 0.0276 - acc: 0.9892 - val_loss: 0.7083 - val_acc: 0.8837\n",
      "Epoch 39/100\n",
      "3564/3564 [==============================] - 3s 926us/step - loss: 0.0268 - acc: 0.9901 - val_loss: 0.6823 - val_acc: 0.8784\n",
      "Epoch 40/100\n",
      "3564/3564 [==============================] - 3s 914us/step - loss: 0.0266 - acc: 0.9915 - val_loss: 0.6973 - val_acc: 0.8795\n",
      "Epoch 41/100\n",
      "3564/3564 [==============================] - 3s 919us/step - loss: 0.0249 - acc: 0.9910 - val_loss: 0.7084 - val_acc: 0.8859\n",
      "Epoch 42/100\n",
      "3564/3564 [==============================] - 3s 918us/step - loss: 0.0247 - acc: 0.9919 - val_loss: 0.7118 - val_acc: 0.8800\n",
      "Epoch 43/100\n",
      "3564/3564 [==============================] - 3s 914us/step - loss: 0.0277 - acc: 0.9899 - val_loss: 0.7034 - val_acc: 0.8798\n",
      "Epoch 44/100\n",
      "3564/3564 [==============================] - 3s 918us/step - loss: 0.0259 - acc: 0.9912 - val_loss: 0.6790 - val_acc: 0.8798\n",
      "Epoch 45/100\n",
      "3564/3564 [==============================] - 3s 919us/step - loss: 0.0188 - acc: 0.9943 - val_loss: 0.8016 - val_acc: 0.8828\n",
      "Epoch 46/100\n",
      "3564/3564 [==============================] - 3s 922us/step - loss: 0.0184 - acc: 0.9938 - val_loss: 0.8255 - val_acc: 0.8845\n",
      "Epoch 47/100\n",
      "3564/3564 [==============================] - 3s 917us/step - loss: 0.0203 - acc: 0.9925 - val_loss: 0.7811 - val_acc: 0.8868\n",
      "Epoch 48/100\n",
      "3564/3564 [==============================] - 3s 918us/step - loss: 0.0222 - acc: 0.9918 - val_loss: 0.8345 - val_acc: 0.8857\n",
      "Epoch 49/100\n",
      "3564/3564 [==============================] - 3s 928us/step - loss: 0.0222 - acc: 0.9910 - val_loss: 0.7581 - val_acc: 0.8770\n",
      "Epoch 50/100\n",
      "3564/3564 [==============================] - 3s 925us/step - loss: 0.0203 - acc: 0.9935 - val_loss: 0.7718 - val_acc: 0.8770\n",
      "Epoch 51/100\n",
      "3564/3564 [==============================] - 3s 917us/step - loss: 0.0202 - acc: 0.9916 - val_loss: 0.7897 - val_acc: 0.8803\n",
      "Epoch 52/100\n",
      "3564/3564 [==============================] - 3s 926us/step - loss: 0.0165 - acc: 0.9947 - val_loss: 0.8201 - val_acc: 0.8739\n",
      "Epoch 53/100\n",
      "3564/3564 [==============================] - 3s 935us/step - loss: 0.0156 - acc: 0.9947 - val_loss: 0.8317 - val_acc: 0.8812\n",
      "Epoch 54/100\n",
      "3564/3564 [==============================] - 3s 939us/step - loss: 0.0156 - acc: 0.9948 - val_loss: 0.8680 - val_acc: 0.8770\n",
      "Epoch 55/100\n",
      "3564/3564 [==============================] - 3s 937us/step - loss: 0.0149 - acc: 0.9944 - val_loss: 0.8155 - val_acc: 0.8820\n",
      "Epoch 56/100\n",
      "3564/3564 [==============================] - 3s 923us/step - loss: 0.0139 - acc: 0.9955 - val_loss: 0.8617 - val_acc: 0.8786\n",
      "Epoch 57/100\n",
      "3564/3564 [==============================] - 3s 918us/step - loss: 0.0197 - acc: 0.9942 - val_loss: 0.7654 - val_acc: 0.8756\n",
      "Epoch 58/100\n",
      "3564/3564 [==============================] - 3s 915us/step - loss: 0.0153 - acc: 0.9947 - val_loss: 0.8817 - val_acc: 0.8848\n",
      "Epoch 59/100\n",
      "3564/3564 [==============================] - 3s 914us/step - loss: 0.0122 - acc: 0.9954 - val_loss: 0.9012 - val_acc: 0.8761\n",
      "Epoch 60/100\n",
      "3564/3564 [==============================] - 3s 915us/step - loss: 0.0125 - acc: 0.9966 - val_loss: 0.9868 - val_acc: 0.8876\n",
      "Epoch 61/100\n",
      "3564/3564 [==============================] - 3s 916us/step - loss: 0.0137 - acc: 0.9951 - val_loss: 0.8762 - val_acc: 0.8758\n",
      "Epoch 62/100\n",
      "3564/3564 [==============================] - 3s 916us/step - loss: 0.0129 - acc: 0.9964 - val_loss: 0.8731 - val_acc: 0.8756\n",
      "Epoch 63/100\n",
      "3564/3564 [==============================] - 3s 918us/step - loss: 0.0126 - acc: 0.9959 - val_loss: 0.8964 - val_acc: 0.8800\n",
      "Epoch 64/100\n",
      "3564/3564 [==============================] - 3s 914us/step - loss: 0.0129 - acc: 0.9964 - val_loss: 0.9195 - val_acc: 0.8848\n",
      "Epoch 65/100\n",
      "3564/3564 [==============================] - 3s 920us/step - loss: 0.0111 - acc: 0.9964 - val_loss: 0.9257 - val_acc: 0.8775\n",
      "Epoch 66/100\n",
      "3564/3564 [==============================] - 3s 914us/step - loss: 0.0121 - acc: 0.9955 - val_loss: 0.9540 - val_acc: 0.8862\n",
      "Epoch 67/100\n",
      "3564/3564 [==============================] - 3s 913us/step - loss: 0.0137 - acc: 0.9953 - val_loss: 0.9369 - val_acc: 0.8859\n",
      "Epoch 68/100\n",
      "3564/3564 [==============================] - 3s 918us/step - loss: 0.0145 - acc: 0.9949 - val_loss: 0.8698 - val_acc: 0.8742\n",
      "Epoch 69/100\n",
      "3564/3564 [==============================] - 3s 915us/step - loss: 0.0121 - acc: 0.9959 - val_loss: 0.9085 - val_acc: 0.8775\n",
      "Epoch 70/100\n",
      "3564/3564 [==============================] - 3s 918us/step - loss: 0.0089 - acc: 0.9972 - val_loss: 0.8821 - val_acc: 0.8770\n",
      "Epoch 71/100\n",
      "3564/3564 [==============================] - 3s 915us/step - loss: 0.0104 - acc: 0.9968 - val_loss: 0.9183 - val_acc: 0.8865\n",
      "Epoch 72/100\n",
      "3564/3564 [==============================] - 3s 913us/step - loss: 0.0083 - acc: 0.9964 - val_loss: 0.9383 - val_acc: 0.8820\n",
      "Epoch 73/100\n",
      "3564/3564 [==============================] - 3s 918us/step - loss: 0.0094 - acc: 0.9969 - val_loss: 0.9002 - val_acc: 0.8798\n",
      "Epoch 74/100\n",
      "3564/3564 [==============================] - 3s 917us/step - loss: 0.0090 - acc: 0.9964 - val_loss: 0.9503 - val_acc: 0.8775\n",
      "Epoch 75/100\n",
      "3564/3564 [==============================] - 3s 917us/step - loss: 0.0076 - acc: 0.9979 - val_loss: 1.0143 - val_acc: 0.8851\n",
      "Epoch 76/100\n",
      "3564/3564 [==============================] - 3s 913us/step - loss: 0.0092 - acc: 0.9973 - val_loss: 1.0123 - val_acc: 0.8781\n",
      "Epoch 77/100\n",
      "3564/3564 [==============================] - 3s 916us/step - loss: 0.0080 - acc: 0.9968 - val_loss: 0.9720 - val_acc: 0.8795\n",
      "Epoch 78/100\n",
      "3564/3564 [==============================] - 3s 939us/step - loss: 0.0085 - acc: 0.9969 - val_loss: 0.9932 - val_acc: 0.8784\n",
      "Epoch 79/100\n",
      "3564/3564 [==============================] - 3s 934us/step - loss: 0.0092 - acc: 0.9966 - val_loss: 0.9312 - val_acc: 0.8789\n",
      "Epoch 80/100\n",
      "3564/3564 [==============================] - 3s 934us/step - loss: 0.0090 - acc: 0.9971 - val_loss: 0.9670 - val_acc: 0.8800\n",
      "Epoch 81/100\n",
      "3564/3564 [==============================] - 3s 919us/step - loss: 0.0082 - acc: 0.9971 - val_loss: 0.9866 - val_acc: 0.8848\n",
      "Epoch 82/100\n",
      "3564/3564 [==============================] - 3s 913us/step - loss: 0.0093 - acc: 0.9972 - val_loss: 0.9537 - val_acc: 0.8817\n",
      "Epoch 83/100\n",
      "3564/3564 [==============================] - 3s 914us/step - loss: 0.0118 - acc: 0.9966 - val_loss: 0.8968 - val_acc: 0.8848\n",
      "Epoch 84/100\n",
      "3564/3564 [==============================] - 3s 923us/step - loss: 0.0084 - acc: 0.9967 - val_loss: 0.9351 - val_acc: 0.8798\n",
      "Epoch 85/100\n",
      "3564/3564 [==============================] - 3s 926us/step - loss: 0.0084 - acc: 0.9977 - val_loss: 0.9524 - val_acc: 0.8753\n",
      "Epoch 86/100\n",
      "3564/3564 [==============================] - 3s 924us/step - loss: 0.0055 - acc: 0.9980 - val_loss: 0.9808 - val_acc: 0.8792\n",
      "Epoch 87/100\n",
      "3564/3564 [==============================] - 3s 921us/step - loss: 0.0093 - acc: 0.9966 - val_loss: 0.9770 - val_acc: 0.8683\n",
      "Epoch 88/100\n",
      "3564/3564 [==============================] - 3s 925us/step - loss: 0.0139 - acc: 0.9951 - val_loss: 0.9169 - val_acc: 0.8730\n",
      "Epoch 89/100\n",
      "3564/3564 [==============================] - 3s 923us/step - loss: 0.0115 - acc: 0.9957 - val_loss: 0.9268 - val_acc: 0.8719\n",
      "Epoch 90/100\n",
      "3564/3564 [==============================] - 3s 919us/step - loss: 0.0086 - acc: 0.9978 - val_loss: 0.9515 - val_acc: 0.8770\n",
      "Epoch 91/100\n",
      "3564/3564 [==============================] - 3s 914us/step - loss: 0.0068 - acc: 0.9978 - val_loss: 0.9652 - val_acc: 0.8812\n",
      "Epoch 92/100\n",
      "3564/3564 [==============================] - 3s 912us/step - loss: 0.0058 - acc: 0.9980 - val_loss: 0.9723 - val_acc: 0.8775\n",
      "Epoch 93/100\n",
      "3564/3564 [==============================] - 3s 916us/step - loss: 0.0057 - acc: 0.9975 - val_loss: 0.9958 - val_acc: 0.8733\n",
      "Epoch 94/100\n",
      "3564/3564 [==============================] - 3s 918us/step - loss: 0.0131 - acc: 0.9954 - val_loss: 0.9827 - val_acc: 0.8837\n",
      "Epoch 95/100\n",
      "3564/3564 [==============================] - 3s 928us/step - loss: 0.0115 - acc: 0.9959 - val_loss: 0.9240 - val_acc: 0.8714\n",
      "Epoch 96/100\n",
      "3564/3564 [==============================] - 3s 947us/step - loss: 0.0083 - acc: 0.9968 - val_loss: 0.9558 - val_acc: 0.8806\n",
      "Epoch 97/100\n",
      "3564/3564 [==============================] - 3s 944us/step - loss: 0.0077 - acc: 0.9975 - val_loss: 1.0033 - val_acc: 0.8812\n",
      "Epoch 98/100\n",
      "3564/3564 [==============================] - 3s 937us/step - loss: 0.0060 - acc: 0.9982 - val_loss: 0.9825 - val_acc: 0.8851\n",
      "Epoch 99/100\n",
      "3564/3564 [==============================] - 3s 915us/step - loss: 0.0082 - acc: 0.9970 - val_loss: 0.9840 - val_acc: 0.8826\n",
      "Epoch 100/100\n",
      "3564/3564 [==============================] - 3s 916us/step - loss: 0.0092 - acc: 0.9971 - val_loss: 1.0800 - val_acc: 0.8887\n"
     ]
    }
   ],
   "source": [
    "# Set up the callback to save the best model based on validation data\n",
    "best_weights_filepath = './best_weights_notebook21.hdf5'\n",
    "mcp = ModelCheckpoint(best_weights_filepath, monitor=\"val_acc\",\n",
    "                      save_best_only=True, save_weights_only=False)\n",
    "\n",
    "history = model.fit(X_train, y_train_wide,\n",
    "          batch_size=batch_size,\n",
    "          epochs=epochs,\n",
    "          verbose = 1,\n",
    "          validation_split = 0.2,\n",
    "          shuffle=True,\n",
    "          callbacks=[mcp])\n",
    "\n",
    "# Reload best weights\n",
    "model.load_weights(best_weights_filepath)"
   ]
  },
  {
   "cell_type": "markdown",
   "metadata": {},
   "source": [
    "Plot the losses"
   ]
  },
  {
   "cell_type": "code",
   "execution_count": 10,
   "metadata": {
    "colab": {
     "base_uri": "https://localhost:8080/",
     "height": 283
    },
    "colab_type": "code",
    "id": "tbbfkpXzacLx",
    "outputId": "44cb8b96-b9df-4786-bb0c-4ff1be7dc279",
    "scrolled": true
   },
   "outputs": [
    {
     "data": {
      "image/png": "[encoded data removed]",
      "text/plain": [
       "<Figure size 432x288 with 1 Axes>"
      ]
     },
     "metadata": {
      "tags": []
     },
     "output_type": "display_data"
    }
   ],
   "source": [
    "loss = history.history['loss']\n",
    "val_loss = history.history['val_loss']\n",
    "\n",
    "plt.xlabel('Epochs')\n",
    "plt.ylabel('Loss')\n",
    "plt.plot(loss, 'blue', label='Training Loss')\n",
    "plt.plot(val_loss, 'green', label='Validation Loss')\n",
    "plt.xticks(range(0,epochs)[0::5])\n",
    "plt.legend()\n",
    "plt.show()"
   ]
  },
  {
   "cell_type": "markdown",
   "metadata": {},
   "source": [
    "Make Predictions"
   ]
  },
  {
   "cell_type": "code",
   "execution_count": 11,
   "metadata": {
    "colab": {
     "base_uri": "https://localhost:8080/",
     "height": 312
    },
    "colab_type": "code",
    "id": "Vp8IxSmxacL0",
    "outputId": "a847e25d-345c-4ebf-bd6f-b5c5f0cc6fdf"
   },
   "outputs": [
    {
     "name": "stdout",
     "output_type": "stream",
     "text": [
      "Accuracy: 0.7974882260596546\n",
      "              precision    recall  f1-score   support\n",
      "\n",
      "           0       0.78      0.88      0.83       861\n",
      "           1       0.83      0.80      0.82       916\n",
      "           2       0.45      0.21      0.28        68\n",
      "           3       0.59      0.26      0.36        66\n",
      "\n",
      "   micro avg       0.80      0.80      0.80      1911\n",
      "   macro avg       0.66      0.54      0.57      1911\n",
      "weighted avg       0.79      0.80      0.79      1911\n",
      "\n",
      "Confusion matrix\n",
      "[[757  97   3   4]\n",
      " [162 736  13   5]\n",
      " [ 25  26  14   3]\n",
      " [ 21  27   1  17]]\n"
     ]
    }
   ],
   "source": [
    "# Make a set of predictions for the test data\n",
    "pred = model.predict_classes(X_test)\n",
    "\n",
    "# Print performance details\n",
    "accuracy = metrics.accuracy_score(y_test_num, pred) # normalize=True, sample_weight=None\n",
    "task_accuracy_comparisons[\"Color_Imbalance_Classes\"] = accuracy\n",
    "print(\"Accuracy: \" +  str(accuracy))\n",
    "print(metrics.classification_report(y_test_num, pred))\n",
    "print(\"Confusion matrix\")\n",
    "print(metrics.confusion_matrix(y_test_num, pred))"
   ]
  },
  {
   "cell_type": "markdown",
   "metadata": {
    "colab_type": "text",
    "id": "RLIyIyCOacL6"
   },
   "source": [
    "### Grayscale and balance class\n",
    "\n",
    "Images used for training are converted to gray scale and classes are balanced by oversampling the classes  "
   ]
  },
  {
   "cell_type": "code",
   "execution_count": 11,
   "metadata": {
    "colab": {
     "base_uri": "https://localhost:8080/",
     "height": 139
    },
    "colab_type": "code",
    "id": "I1RJLCofacL7",
    "outputId": "f4169b62-5b9b-417e-bf04-9723b33918b0"
   },
   "outputs": [
    {
     "name": "stdout",
     "output_type": "stream",
     "text": [
      "Processed 0 Images\n",
      "Processed 1000 Images\n",
      "Processed 2000 Images\n",
      "Processed 3000 Images\n",
      "Processed 4000 Images\n",
      "Processed 5000 Images\n",
      "Processed 6000 Images\n"
     ]
    }
   ],
   "source": [
    "input_shape = (img_width, img_height,1)\n",
    "X_data_part = np.ndarray((count, input_shape[2], input_shape[1], input_shape[0]), dtype=np.float)\n",
    "\n",
    "# Initialise arrays for data storage\n",
    "X_data = np.ndarray((count, input_shape[0], input_shape[1], input_shape[2]), dtype=np.float)\n",
    "y_data= np.ndarray(0, dtype=np.str)\n",
    "\n",
    "\n",
    "# Iterate through the filenames and for each one load the image, resize and normalise\n",
    "for i, image_file in enumerate(image_filenames):\n",
    "\n",
    "    # Load the images and resize them\n",
    "    image = cv2.imread(image_file, cv2.IMREAD_COLOR)\n",
    "    image = cv2.cvtColor(image,cv2.COLOR_RGB2GRAY)\n",
    "    image = cv2.resize(image,(img_height, img_width), interpolation=cv2.INTER_CUBIC)\n",
    "    \n",
    "\n",
    "    # If channel order of network does not match open cv format swap it\n",
    "    if K.image_data_format() == 'channels_first':\n",
    "        image=np.swapaxes(np.swapaxes(image, 1, 2), 0, 1)\n",
    "    \n",
    "    # Add image data to data array and normalise\n",
    "    \n",
    "    X_data_part[i] = image\n",
    "    X_data_part[i] = X_data_part[i]/255\n",
    "\n",
    "    # Add label to label array\n",
    "    lb = moves[image_file[-6]]\n",
    "        \n",
    "    y_data = np.append(y_data, lb)\n",
    "\n",
    "    if i%1000 == 0: print('Processed {} Images'.format(i))\n",
    "        \n",
    "X_data = np.rollaxis(X_data_part, 1, 4)"
   ]
  },
  {
   "cell_type": "markdown",
   "metadata": {},
   "source": [
    "Plot class distribution"
   ]
  },
  {
   "cell_type": "code",
   "execution_count": 13,
   "metadata": {
    "colab": {
     "base_uri": "https://localhost:8080/",
     "height": 287
    },
    "colab_type": "code",
    "id": "SBk7BWn4acL9",
    "outputId": "35798dad-55d9-4047-deaa-6a8c5e23f446"
   },
   "outputs": [
    {
     "data": {
      "text/plain": [
       "{'left': 2932, 'none': 2974, 'right': 223, 'up': 238}"
      ]
     },
     "execution_count": 13,
     "metadata": {
      "tags": []
     },
     "output_type": "execute_result"
    },
    {
     "data": {
      "image/png": "[encoded data removed]",
      "text/plain": [
       "<Figure size 432x288 with 1 Axes>"
      ]
     },
     "metadata": {
      "tags": []
     },
     "output_type": "display_data"
    }
   ],
   "source": [
    "sns.countplot(y_data)\n",
    "unique, counts = np.unique(y_data, return_counts=True)\n",
    "dict(zip(unique, counts))"
   ]
  },
  {
   "cell_type": "markdown",
   "metadata": {},
   "source": [
    "Over sample the classes which have less examples so all classes have equal number of samples"
   ]
  },
  {
   "cell_type": "code",
   "execution_count": 0,
   "metadata": {
    "colab": {},
    "colab_type": "code",
    "id": "lwfWeGNOacMB"
   },
   "outputs": [],
   "source": [
    "nsamples, nx, ny,c = X_data.shape\n",
    "\n",
    "ros = RandomOverSampler(return_indices=True)\n",
    "\n",
    "X_resampled, y_resampled,idx_resampled = ros.fit_sample(X_data.reshape(len(X_data), nx*ny*c), y_data)\n",
    "X_resampled, y_resampled = shuffle(X_resampled, y_resampled)\n",
    "X_resampled = X_resampled.reshape((len(X_resampled),nx,ny,c))\n"
   ]
  },
  {
   "cell_type": "code",
   "execution_count": 15,
   "metadata": {
    "colab": {
     "base_uri": "https://localhost:8080/",
     "height": 287
    },
    "colab_type": "code",
    "id": "UTQ5J-PgWtiW",
    "outputId": "84c3f201-6a1f-4d44-f111-d27de25d0ea4"
   },
   "outputs": [
    {
     "data": {
      "text/plain": [
       "{'left': 2974, 'none': 2974, 'right': 2974, 'up': 2974}"
      ]
     },
     "execution_count": 15,
     "metadata": {
      "tags": []
     },
     "output_type": "execute_result"
    },
    {
     "data": {
      "image/png": "[encoded data removed]",
      "text/plain": [
       "<Figure size 432x288 with 1 Axes>"
      ]
     },
     "metadata": {
      "tags": []
     },
     "output_type": "display_data"
    }
   ],
   "source": [
    "sns.countplot(y_resampled)\n",
    "unique, counts = np.unique(y_resampled, return_counts=True)\n",
    "dict(zip(unique, counts))"
   ]
  },
  {
   "cell_type": "markdown",
   "metadata": {},
   "source": [
    "Plot few images "
   ]
  },
  {
   "cell_type": "code",
   "execution_count": 16,
   "metadata": {
    "colab": {
     "base_uri": "https://localhost:8080/",
     "height": 1171
    },
    "colab_type": "code",
    "id": "_w3TgvjvshKT",
    "outputId": "dde4eb9a-4bf2-49c6-cde6-ef5bb070390d"
   },
   "outputs": [
    {
     "data": {
      "image/png": "[encoded data removed]",
      "text/plain": [
       "<Figure size 1440x1440 with 25 Axes>"
      ]
     },
     "metadata": {
      "tags": []
     },
     "output_type": "display_data"
    }
   ],
   "source": [
    "pltsize=4\n",
    "row_images = 5\n",
    "col_images = 5\n",
    "plt.figure(figsize=(col_images*pltsize, row_images*pltsize))\n",
    "\n",
    "for i in range(row_images * col_images):\n",
    "    i_rand = random.randint(0, X_resampled.shape[0])\n",
    "    plt.subplot(row_images,col_images,i+1)\n",
    "    plt.axis('off')\n",
    "    plt.imshow((X_resampled.reshape(len(X_resampled), 150,150)[i_rand]),cmap='gray')\n",
    "    plt.title((str(i_rand) + \" \" + y_resampled[i_rand]))"
   ]
  },
  {
   "cell_type": "markdown",
   "metadata": {
    "colab": {},
    "colab_type": "code",
    "id": "mheQC6niacME"
   },
   "source": [
    "Split data into training and testing"
   ]
  },
  {
   "cell_type": "code",
   "execution_count": 0,
   "metadata": {
    "colab": {},
    "colab_type": "code",
    "id": "YcKimLWPacMG"
   },
   "outputs": [],
   "source": [
    "# Perform split to train, validate and test\n",
    "X_train, X_test, y_train, y_test = train_test_split(X_resampled, y_resampled, random_state=0, test_size = 0.30, train_size = 0.7)"
   ]
  },
  {
   "cell_type": "code",
   "execution_count": 0,
   "metadata": {
    "colab": {},
    "colab_type": "code",
    "id": "Z9HrVlAVacMM"
   },
   "outputs": [],
   "source": [
    "# Convert class vectors to binary class matrices.\n",
    "num_classes = 4\n",
    "y_train_encoder = sklearn.preprocessing.LabelEncoder()\n",
    "y_train_num = y_train_encoder.fit_transform(y_train)\n",
    "y_train_wide = keras.utils.to_categorical(y_train_num,num_classes)\n",
    "\n",
    "y_test_num = y_train_encoder.fit_transform(y_test)\n",
    "y_test_wide = keras.utils.to_categorical(y_test_num, num_classes)"
   ]
  },
  {
   "cell_type": "markdown",
   "metadata": {},
   "source": [
    "Create model"
   ]
  },
  {
   "cell_type": "code",
   "execution_count": 15,
   "metadata": {
    "colab": {
     "base_uri": "https://localhost:8080/",
     "height": 659
    },
    "colab_type": "code",
    "id": "tgqlIBRsS5v1",
    "outputId": "7c9f4180-f1b5-4989-8475-7fd04452b210"
   },
   "outputs": [
    {
     "name": "stdout",
     "output_type": "stream",
     "text": [
      "_________________________________________________________________\n",
      "Layer (type)                 Output Shape              Param #   \n",
      "=================================================================\n",
      "conv2d_4 (Conv2D)            (None, 148, 148, 32)      320       \n",
      "_________________________________________________________________\n",
      "activation_6 (Activation)    (None, 148, 148, 32)      0         \n",
      "_________________________________________________________________\n",
      "max_pooling2d_4 (MaxPooling2 (None, 74, 74, 32)        0         \n",
      "_________________________________________________________________\n",
      "conv2d_5 (Conv2D)            (None, 72, 72, 32)        9248      \n",
      "_________________________________________________________________\n",
      "activation_7 (Activation)    (None, 72, 72, 32)        0         \n",
      "_________________________________________________________________\n",
      "max_pooling2d_5 (MaxPooling2 (None, 36, 36, 32)        0         \n",
      "_________________________________________________________________\n",
      "conv2d_6 (Conv2D)            (None, 34, 34, 64)        18496     \n",
      "_________________________________________________________________\n",
      "activation_8 (Activation)    (None, 34, 34, 64)        0         \n",
      "_________________________________________________________________\n",
      "max_pooling2d_6 (MaxPooling2 (None, 17, 17, 64)        0         \n",
      "_________________________________________________________________\n",
      "flatten_2 (Flatten)          (None, 18496)             0         \n",
      "_________________________________________________________________\n",
      "dense_3 (Dense)              (None, 256)               4735232   \n",
      "_________________________________________________________________\n",
      "activation_9 (Activation)    (None, 256)               0         \n",
      "_________________________________________________________________\n",
      "dropout_2 (Dropout)          (None, 256)               0         \n",
      "_________________________________________________________________\n",
      "dense_4 (Dense)              (None, 4)                 1028      \n",
      "_________________________________________________________________\n",
      "activation_10 (Activation)   (None, 4)                 0         \n",
      "=================================================================\n",
      "Total params: 4,764,324\n",
      "Trainable params: 4,764,324\n",
      "Non-trainable params: 0\n",
      "_________________________________________________________________\n"
     ]
    }
   ],
   "source": [
    "model = Sequential()\n",
    "model.add(Conv2D(32, (3, 3), input_shape=input_shape))\n",
    "model.add(Activation('relu'))\n",
    "model.add(MaxPooling2D(pool_size=(2, 2)))\n",
    "\n",
    "model.add(Conv2D(32, (3, 3)))\n",
    "model.add(Activation('relu'))\n",
    "model.add(MaxPooling2D(pool_size=(2, 2)))\n",
    "\n",
    "model.add(Conv2D(64, (3, 3)))\n",
    "model.add(Activation('relu'))\n",
    "model.add(MaxPooling2D(pool_size=(2, 2)))\n",
    "\n",
    "model.add(Flatten())\n",
    "model.add(Dense(256))\n",
    "model.add(Activation('relu'))\n",
    "model.add(Dropout(0.5))\n",
    "model.add(Dense(num_classes))\n",
    "model.add(Activation('softmax'))\n",
    "\n",
    "model.compile(loss='binary_crossentropy',\n",
    "              optimizer='adam',\n",
    "              metrics=['accuracy'])\n",
    "\n",
    "model.summary()"
   ]
  },
  {
   "cell_type": "markdown",
   "metadata": {},
   "source": [
    "Fit the model"
   ]
  },
  {
   "cell_type": "code",
   "execution_count": 16,
   "metadata": {
    "colab": {
     "base_uri": "https://localhost:8080/",
     "height": 3521
    },
    "colab_type": "code",
    "id": "RlJ33lrkacMU",
    "outputId": "240091a1-4c15-4eb8-813a-3507610a53f4"
   },
   "outputs": [
    {
     "name": "stdout",
     "output_type": "stream",
     "text": [
      "Train on 6704 samples, validate on 1676 samples\n",
      "Epoch 1/100\n",
      "6704/6704 [==============================] - 6s 873us/step - loss: 1.1496 - acc: 0.4937 - val_loss: 0.9168 - val_acc: 0.6301\n",
      "Epoch 2/100\n",
      "6704/6704 [==============================] - 4s 638us/step - loss: 0.8911 - acc: 0.6220 - val_loss: 0.7839 - val_acc: 0.6724\n",
      "Epoch 3/100\n",
      "6704/6704 [==============================] - 4s 635us/step - loss: 0.7582 - acc: 0.6841 - val_loss: 0.6518 - val_acc: 0.7464\n",
      "Epoch 4/100\n",
      "6704/6704 [==============================] - 4s 639us/step - loss: 0.6433 - acc: 0.7393 - val_loss: 0.5639 - val_acc: 0.7733\n",
      "Epoch 5/100\n",
      "6704/6704 [==============================] - 4s 637us/step - loss: 0.5555 - acc: 0.7780 - val_loss: 0.4863 - val_acc: 0.8150\n",
      "Epoch 6/100\n",
      "6704/6704 [==============================] - 4s 639us/step - loss: 0.4849 - acc: 0.8067 - val_loss: 0.4578 - val_acc: 0.8246\n",
      "Epoch 7/100\n",
      "6704/6704 [==============================] - 4s 637us/step - loss: 0.4101 - acc: 0.8401 - val_loss: 0.3852 - val_acc: 0.8586\n",
      "Epoch 8/100\n",
      "6704/6704 [==============================] - 4s 640us/step - loss: 0.3674 - acc: 0.8543 - val_loss: 0.3674 - val_acc: 0.8640\n",
      "Epoch 9/100\n",
      "6704/6704 [==============================] - 4s 636us/step - loss: 0.3240 - acc: 0.8754 - val_loss: 0.3390 - val_acc: 0.8646\n",
      "Epoch 10/100\n",
      "6704/6704 [==============================] - 4s 635us/step - loss: 0.2909 - acc: 0.8844 - val_loss: 0.3320 - val_acc: 0.8711\n",
      "Epoch 11/100\n",
      "6704/6704 [==============================] - 4s 632us/step - loss: 0.2577 - acc: 0.8990 - val_loss: 0.3239 - val_acc: 0.8717\n",
      "Epoch 12/100\n",
      "6704/6704 [==============================] - 4s 643us/step - loss: 0.2356 - acc: 0.9104 - val_loss: 0.3599 - val_acc: 0.8675\n",
      "Epoch 13/100\n",
      "6704/6704 [==============================] - 4s 640us/step - loss: 0.2119 - acc: 0.9211 - val_loss: 0.3145 - val_acc: 0.8819\n",
      "Epoch 14/100\n",
      "6704/6704 [==============================] - 4s 641us/step - loss: 0.1984 - acc: 0.9268 - val_loss: 0.3602 - val_acc: 0.8753\n",
      "Epoch 15/100\n",
      "6704/6704 [==============================] - 4s 629us/step - loss: 0.1886 - acc: 0.9277 - val_loss: 0.3030 - val_acc: 0.8968\n",
      "Epoch 16/100\n",
      "6704/6704 [==============================] - 4s 629us/step - loss: 0.1665 - acc: 0.9342 - val_loss: 0.3119 - val_acc: 0.8890\n",
      "Epoch 17/100\n",
      "6704/6704 [==============================] - 4s 629us/step - loss: 0.1515 - acc: 0.9444 - val_loss: 0.3445 - val_acc: 0.8866\n",
      "Epoch 18/100\n",
      "6704/6704 [==============================] - 4s 630us/step - loss: 0.1450 - acc: 0.9450 - val_loss: 0.3099 - val_acc: 0.8956\n",
      "Epoch 19/100\n",
      "6704/6704 [==============================] - 4s 630us/step - loss: 0.1315 - acc: 0.9508 - val_loss: 0.3054 - val_acc: 0.9010\n",
      "Epoch 20/100\n",
      "6704/6704 [==============================] - 4s 633us/step - loss: 0.1295 - acc: 0.9506 - val_loss: 0.3488 - val_acc: 0.8902\n",
      "Epoch 21/100\n",
      "6704/6704 [==============================] - 4s 628us/step - loss: 0.1115 - acc: 0.9555 - val_loss: 0.3457 - val_acc: 0.8956\n",
      "Epoch 22/100\n",
      "6704/6704 [==============================] - 4s 633us/step - loss: 0.1088 - acc: 0.9581 - val_loss: 0.3367 - val_acc: 0.9033\n",
      "Epoch 23/100\n",
      "6704/6704 [==============================] - 4s 644us/step - loss: 0.1030 - acc: 0.9596 - val_loss: 0.3686 - val_acc: 0.8992\n",
      "Epoch 24/100\n",
      "6704/6704 [==============================] - 4s 649us/step - loss: 0.0939 - acc: 0.9648 - val_loss: 0.3387 - val_acc: 0.9016\n",
      "Epoch 25/100\n",
      "6704/6704 [==============================] - 4s 642us/step - loss: 0.0940 - acc: 0.9651 - val_loss: 0.3847 - val_acc: 0.8986\n",
      "Epoch 26/100\n",
      "6704/6704 [==============================] - 4s 633us/step - loss: 0.0817 - acc: 0.9682 - val_loss: 0.3798 - val_acc: 0.8980\n",
      "Epoch 27/100\n",
      "6704/6704 [==============================] - 4s 636us/step - loss: 0.0691 - acc: 0.9749 - val_loss: 0.3912 - val_acc: 0.9021\n",
      "Epoch 28/100\n",
      "6704/6704 [==============================] - 4s 633us/step - loss: 0.0713 - acc: 0.9740 - val_loss: 0.4027 - val_acc: 0.8986\n",
      "Epoch 29/100\n",
      "6704/6704 [==============================] - 4s 631us/step - loss: 0.0705 - acc: 0.9745 - val_loss: 0.3960 - val_acc: 0.8998\n",
      "Epoch 30/100\n",
      "6704/6704 [==============================] - 4s 632us/step - loss: 0.0689 - acc: 0.9734 - val_loss: 0.4242 - val_acc: 0.8992\n",
      "Epoch 31/100\n",
      "6704/6704 [==============================] - 4s 641us/step - loss: 0.0754 - acc: 0.9724 - val_loss: 0.4534 - val_acc: 0.8998\n",
      "Epoch 32/100\n",
      "6704/6704 [==============================] - 4s 642us/step - loss: 0.0695 - acc: 0.9758 - val_loss: 0.4299 - val_acc: 0.8944\n",
      "Epoch 33/100\n",
      "6704/6704 [==============================] - 4s 639us/step - loss: 0.0575 - acc: 0.9775 - val_loss: 0.4615 - val_acc: 0.8986\n",
      "Epoch 34/100\n",
      "6704/6704 [==============================] - 4s 645us/step - loss: 0.0533 - acc: 0.9805 - val_loss: 0.4570 - val_acc: 0.9010\n",
      "Epoch 35/100\n",
      "6704/6704 [==============================] - 4s 631us/step - loss: 0.0510 - acc: 0.9809 - val_loss: 0.4390 - val_acc: 0.8992\n",
      "Epoch 36/100\n",
      "6704/6704 [==============================] - 4s 628us/step - loss: 0.0522 - acc: 0.9806 - val_loss: 0.4542 - val_acc: 0.8986\n",
      "Epoch 37/100\n",
      "6704/6704 [==============================] - 4s 629us/step - loss: 0.0447 - acc: 0.9828 - val_loss: 0.4888 - val_acc: 0.9010\n",
      "Epoch 38/100\n",
      "6704/6704 [==============================] - 4s 632us/step - loss: 0.0513 - acc: 0.9822 - val_loss: 0.4975 - val_acc: 0.8986\n",
      "Epoch 39/100\n",
      "6704/6704 [==============================] - 4s 636us/step - loss: 0.0472 - acc: 0.9830 - val_loss: 0.5059 - val_acc: 0.8980\n",
      "Epoch 40/100\n",
      "6704/6704 [==============================] - 4s 631us/step - loss: 0.0448 - acc: 0.9842 - val_loss: 0.4988 - val_acc: 0.9004\n",
      "Epoch 41/100\n",
      "6704/6704 [==============================] - 4s 632us/step - loss: 0.0451 - acc: 0.9846 - val_loss: 0.5059 - val_acc: 0.8974\n",
      "Epoch 42/100\n",
      "6704/6704 [==============================] - 4s 635us/step - loss: 0.0422 - acc: 0.9863 - val_loss: 0.5107 - val_acc: 0.8902\n",
      "Epoch 43/100\n",
      "6704/6704 [==============================] - 4s 638us/step - loss: 0.0416 - acc: 0.9849 - val_loss: 0.5328 - val_acc: 0.8980\n",
      "Epoch 44/100\n",
      "6704/6704 [==============================] - 4s 636us/step - loss: 0.0421 - acc: 0.9833 - val_loss: 0.5806 - val_acc: 0.8956\n",
      "Epoch 45/100\n",
      "6704/6704 [==============================] - 4s 631us/step - loss: 0.0563 - acc: 0.9797 - val_loss: 0.4922 - val_acc: 0.8974\n",
      "Epoch 46/100\n",
      "6704/6704 [==============================] - 4s 637us/step - loss: 0.0521 - acc: 0.9800 - val_loss: 0.4722 - val_acc: 0.9051\n",
      "Epoch 47/100\n",
      "6704/6704 [==============================] - 4s 636us/step - loss: 0.0393 - acc: 0.9857 - val_loss: 0.4944 - val_acc: 0.9081\n",
      "Epoch 48/100\n",
      "6704/6704 [==============================] - 4s 643us/step - loss: 0.0421 - acc: 0.9845 - val_loss: 0.5328 - val_acc: 0.8986\n",
      "Epoch 49/100\n",
      "6704/6704 [==============================] - 4s 636us/step - loss: 0.0352 - acc: 0.9881 - val_loss: 0.5206 - val_acc: 0.9057\n",
      "Epoch 50/100\n",
      "6704/6704 [==============================] - 4s 643us/step - loss: 0.0365 - acc: 0.9867 - val_loss: 0.5775 - val_acc: 0.8944\n",
      "Epoch 51/100\n",
      "6704/6704 [==============================] - 4s 647us/step - loss: 0.0346 - acc: 0.9869 - val_loss: 0.5704 - val_acc: 0.9033\n",
      "Epoch 52/100\n",
      "6704/6704 [==============================] - 4s 636us/step - loss: 0.0332 - acc: 0.9879 - val_loss: 0.5628 - val_acc: 0.9004\n",
      "Epoch 53/100\n",
      "6704/6704 [==============================] - 4s 632us/step - loss: 0.0328 - acc: 0.9879 - val_loss: 0.5430 - val_acc: 0.8992\n",
      "Epoch 54/100\n",
      "6704/6704 [==============================] - 4s 631us/step - loss: 0.0317 - acc: 0.9878 - val_loss: 0.5562 - val_acc: 0.8968\n",
      "Epoch 55/100\n",
      "6704/6704 [==============================] - 4s 635us/step - loss: 0.0327 - acc: 0.9882 - val_loss: 0.5854 - val_acc: 0.8938\n",
      "Epoch 56/100\n",
      "6704/6704 [==============================] - 4s 632us/step - loss: 0.0299 - acc: 0.9885 - val_loss: 0.5739 - val_acc: 0.9016\n",
      "Epoch 57/100\n",
      "6704/6704 [==============================] - 4s 632us/step - loss: 0.0250 - acc: 0.9908 - val_loss: 0.5949 - val_acc: 0.9021\n",
      "Epoch 58/100\n",
      "6704/6704 [==============================] - 4s 634us/step - loss: 0.0258 - acc: 0.9893 - val_loss: 0.6264 - val_acc: 0.8992\n",
      "Epoch 59/100\n",
      "6704/6704 [==============================] - 4s 628us/step - loss: 0.0264 - acc: 0.9905 - val_loss: 0.6317 - val_acc: 0.8974\n",
      "Epoch 60/100\n",
      "6704/6704 [==============================] - 4s 631us/step - loss: 0.0260 - acc: 0.9903 - val_loss: 0.5444 - val_acc: 0.9069\n",
      "Epoch 61/100\n",
      "6704/6704 [==============================] - 4s 627us/step - loss: 0.0277 - acc: 0.9902 - val_loss: 0.5612 - val_acc: 0.9010\n",
      "Epoch 62/100\n",
      "6704/6704 [==============================] - 4s 632us/step - loss: 0.0238 - acc: 0.9916 - val_loss: 0.6015 - val_acc: 0.9021\n",
      "Epoch 63/100\n",
      "6704/6704 [==============================] - 4s 631us/step - loss: 0.0306 - acc: 0.9903 - val_loss: 0.5805 - val_acc: 0.8992\n",
      "Epoch 64/100\n",
      "6704/6704 [==============================] - 4s 630us/step - loss: 0.0310 - acc: 0.9887 - val_loss: 0.5905 - val_acc: 0.8998\n",
      "Epoch 65/100\n",
      "6704/6704 [==============================] - 4s 628us/step - loss: 0.0253 - acc: 0.9909 - val_loss: 0.5843 - val_acc: 0.9010\n",
      "Epoch 66/100\n",
      "6704/6704 [==============================] - 4s 630us/step - loss: 0.0246 - acc: 0.9900 - val_loss: 0.6227 - val_acc: 0.9010\n",
      "Epoch 67/100\n",
      "6704/6704 [==============================] - 4s 632us/step - loss: 0.0230 - acc: 0.9919 - val_loss: 0.6763 - val_acc: 0.9021\n",
      "Epoch 68/100\n",
      "6704/6704 [==============================] - 4s 630us/step - loss: 0.0284 - acc: 0.9887 - val_loss: 0.6520 - val_acc: 0.8962\n",
      "Epoch 69/100\n",
      "6704/6704 [==============================] - 4s 642us/step - loss: 0.0302 - acc: 0.9891 - val_loss: 0.6273 - val_acc: 0.8992\n",
      "Epoch 70/100\n",
      "6704/6704 [==============================] - 4s 640us/step - loss: 0.0268 - acc: 0.9913 - val_loss: 0.6308 - val_acc: 0.9033\n",
      "Epoch 71/100\n",
      "6704/6704 [==============================] - 4s 633us/step - loss: 0.0282 - acc: 0.9902 - val_loss: 0.5817 - val_acc: 0.8968\n",
      "Epoch 72/100\n",
      "6704/6704 [==============================] - 4s 630us/step - loss: 0.0205 - acc: 0.9927 - val_loss: 0.6565 - val_acc: 0.8986\n",
      "Epoch 73/100\n",
      "6704/6704 [==============================] - 4s 628us/step - loss: 0.0177 - acc: 0.9939 - val_loss: 0.6440 - val_acc: 0.9033\n",
      "Epoch 74/100\n",
      "6704/6704 [==============================] - 4s 629us/step - loss: 0.0183 - acc: 0.9936 - val_loss: 0.6508 - val_acc: 0.8986\n",
      "Epoch 75/100\n",
      "6704/6704 [==============================] - 4s 631us/step - loss: 0.0193 - acc: 0.9934 - val_loss: 0.6433 - val_acc: 0.9016\n",
      "Epoch 76/100\n",
      "6704/6704 [==============================] - 4s 629us/step - loss: 0.0193 - acc: 0.9934 - val_loss: 0.6580 - val_acc: 0.8986\n",
      "Epoch 77/100\n",
      "6704/6704 [==============================] - 4s 631us/step - loss: 0.0213 - acc: 0.9928 - val_loss: 0.6408 - val_acc: 0.8986\n",
      "Epoch 78/100\n",
      "6704/6704 [==============================] - 4s 630us/step - loss: 0.0228 - acc: 0.9924 - val_loss: 0.6593 - val_acc: 0.8968\n",
      "Epoch 79/100\n",
      "6704/6704 [==============================] - 4s 628us/step - loss: 0.0185 - acc: 0.9942 - val_loss: 0.6660 - val_acc: 0.8980\n",
      "Epoch 80/100\n",
      "6704/6704 [==============================] - 4s 629us/step - loss: 0.0245 - acc: 0.9916 - val_loss: 0.6772 - val_acc: 0.8878\n",
      "Epoch 81/100\n",
      "6704/6704 [==============================] - 4s 629us/step - loss: 0.0191 - acc: 0.9925 - val_loss: 0.6378 - val_acc: 0.9016\n",
      "Epoch 82/100\n",
      "6704/6704 [==============================] - 4s 631us/step - loss: 0.0142 - acc: 0.9946 - val_loss: 0.6457 - val_acc: 0.9045\n",
      "Epoch 83/100\n",
      "6704/6704 [==============================] - 4s 634us/step - loss: 0.0173 - acc: 0.9930 - val_loss: 0.6625 - val_acc: 0.9016\n",
      "Epoch 84/100\n",
      "6704/6704 [==============================] - 4s 635us/step - loss: 0.0219 - acc: 0.9930 - val_loss: 0.6993 - val_acc: 0.9033\n",
      "Epoch 85/100\n",
      "6704/6704 [==============================] - 4s 632us/step - loss: 0.0270 - acc: 0.9908 - val_loss: 0.6478 - val_acc: 0.9033\n",
      "Epoch 86/100\n",
      "6704/6704 [==============================] - 4s 636us/step - loss: 0.0253 - acc: 0.9911 - val_loss: 0.6732 - val_acc: 0.8986\n",
      "Epoch 87/100\n",
      "6704/6704 [==============================] - 4s 632us/step - loss: 0.0228 - acc: 0.9921 - val_loss: 0.6540 - val_acc: 0.8998\n",
      "Epoch 88/100\n",
      "6704/6704 [==============================] - 4s 644us/step - loss: 0.0257 - acc: 0.9921 - val_loss: 0.5982 - val_acc: 0.9063\n",
      "Epoch 89/100\n",
      "6704/6704 [==============================] - 4s 641us/step - loss: 0.0168 - acc: 0.9948 - val_loss: 0.7100 - val_acc: 0.8998\n",
      "Epoch 90/100\n",
      "6704/6704 [==============================] - 4s 634us/step - loss: 0.0146 - acc: 0.9954 - val_loss: 0.6991 - val_acc: 0.9045\n",
      "Epoch 91/100\n",
      "6704/6704 [==============================] - 4s 631us/step - loss: 0.0177 - acc: 0.9940 - val_loss: 0.6973 - val_acc: 0.8998\n",
      "Epoch 92/100\n",
      "6704/6704 [==============================] - 4s 633us/step - loss: 0.0164 - acc: 0.9940 - val_loss: 0.7040 - val_acc: 0.9010\n",
      "Epoch 93/100\n",
      "6704/6704 [==============================] - 4s 633us/step - loss: 0.0192 - acc: 0.9931 - val_loss: 0.7081 - val_acc: 0.8974\n",
      "Epoch 94/100\n",
      "6704/6704 [==============================] - 4s 636us/step - loss: 0.0181 - acc: 0.9946 - val_loss: 0.6809 - val_acc: 0.9063\n",
      "Epoch 95/100\n",
      "6704/6704 [==============================] - 4s 634us/step - loss: 0.0181 - acc: 0.9927 - val_loss: 0.6974 - val_acc: 0.9039\n",
      "Epoch 96/100\n",
      "6704/6704 [==============================] - 4s 647us/step - loss: 0.0176 - acc: 0.9942 - val_loss: 0.6982 - val_acc: 0.8980\n",
      "Epoch 97/100\n",
      "6704/6704 [==============================] - 4s 652us/step - loss: 0.0145 - acc: 0.9949 - val_loss: 0.6670 - val_acc: 0.9099\n",
      "Epoch 98/100\n",
      "6704/6704 [==============================] - 4s 645us/step - loss: 0.0150 - acc: 0.9952 - val_loss: 0.6579 - val_acc: 0.9069\n",
      "Epoch 99/100\n",
      "6704/6704 [==============================] - 4s 641us/step - loss: 0.0153 - acc: 0.9949 - val_loss: 0.6437 - val_acc: 0.9039\n",
      "Epoch 100/100\n",
      "6704/6704 [==============================] - 4s 638us/step - loss: 0.0144 - acc: 0.9955 - val_loss: 0.6703 - val_acc: 0.9093\n"
     ]
    }
   ],
   "source": [
    "class_weights = class_weight.compute_class_weight('balanced',\n",
    "                                                 np.unique(y_train),\n",
    "                                                 y_train)\n",
    "\n",
    "# Set up the callback to save the best model based on validation data\n",
    "best_weights_filepath = './best_weights_notebook21.hdf5'\n",
    "mcp = ModelCheckpoint(best_weights_filepath, monitor=\"val_acc\",\n",
    "                      save_best_only=True, save_weights_only=False)\n",
    "\n",
    "model.compile(loss='categorical_crossentropy', \n",
    "              optimizer=adam(lr=1e-3), #lr: float >= 0. Learning rate.\n",
    "              metrics=['accuracy'])\n",
    "\n",
    "history = model.fit(X_train, y_train_wide,\n",
    "          batch_size=batch_size,\n",
    "          epochs=epochs,\n",
    "          verbose = 1,\n",
    "          validation_split = 0.2,\n",
    "          shuffle=True,\n",
    "          callbacks=[mcp])\n",
    "\n",
    "#reload best weights\n",
    "model.load_weights(best_weights_filepath)"
   ]
  },
  {
   "cell_type": "markdown",
   "metadata": {},
   "source": [
    "Calculate losses"
   ]
  },
  {
   "cell_type": "code",
   "execution_count": 17,
   "metadata": {
    "colab": {
     "base_uri": "https://localhost:8080/",
     "height": 283
    },
    "colab_type": "code",
    "id": "KUucHKHjacMX",
    "outputId": "5e23f824-0403-41ef-dca3-46243e314baf"
   },
   "outputs": [
    {
     "data": {
      "image/png": "[encoded data removed]",
      "text/plain": [
       "<Figure size 432x288 with 1 Axes>"
      ]
     },
     "metadata": {
      "tags": []
     },
     "output_type": "display_data"
    }
   ],
   "source": [
    "loss = history.history['loss']\n",
    "val_loss = history.history['val_loss']\n",
    "\n",
    "plt.xlabel('Epochs')\n",
    "plt.ylabel('Loss')\n",
    "plt.plot(loss, 'blue', label='Training Loss')\n",
    "plt.plot(val_loss, 'green', label='Validation Loss')\n",
    "plt.xticks(range(0,epochs)[0::5])\n",
    "plt.legend()\n",
    "plt.show()"
   ]
  },
  {
   "cell_type": "markdown",
   "metadata": {},
   "source": [
    "Make predictions"
   ]
  },
  {
   "cell_type": "code",
   "execution_count": 22,
   "metadata": {
    "colab": {
     "base_uri": "https://localhost:8080/",
     "height": 312
    },
    "colab_type": "code",
    "id": "QTbdfobFacMa",
    "outputId": "dea5089b-1ebe-47c3-d480-c56e45dfca9f"
   },
   "outputs": [
    {
     "name": "stdout",
     "output_type": "stream",
     "text": [
      "Accuracy: 0.8862426449985991\n",
      "              precision    recall  f1-score   support\n",
      "\n",
      "           0       0.82      0.77      0.80       890\n",
      "           1       0.81      0.76      0.79       854\n",
      "           2       0.95      1.00      0.97       914\n",
      "           3       0.95      1.00      0.97       911\n",
      "\n",
      "   micro avg       0.89      0.89      0.89      3569\n",
      "   macro avg       0.88      0.88      0.88      3569\n",
      "weighted avg       0.88      0.89      0.88      3569\n",
      "\n",
      "Confusion matrix\n",
      "[[689 150  30  21]\n",
      " [150 649  23  32]\n",
      " [  0   0 914   0]\n",
      " [  0   0   0 911]]\n"
     ]
    }
   ],
   "source": [
    "# Make a set of predictions for the test data\n",
    "pred = model.predict_classes(X_test)\n",
    "\n",
    "# Print performance details\n",
    "accuracy = metrics.accuracy_score(y_test_num, pred) # normalize=True, sample_weight=None\n",
    "task_accuracy_comparisons[\"Gray_balance_classes\"] = accuracy\n",
    "print(\"Accuracy: \" +  str(accuracy))\n",
    "print(metrics.classification_report(y_test_num, pred))\n",
    "print(\"Confusion matrix\")\n",
    "print(metrics.confusion_matrix(y_test_num, pred))"
   ]
  },
  {
   "cell_type": "markdown",
   "metadata": {
    "colab": {},
    "colab_type": "code",
    "id": "HpRh_MPuacMb"
   },
   "source": [
    "### Modifying the model to get better accuracy"
   ]
  },
  {
   "cell_type": "markdown",
   "metadata": {
    "colab_type": "text",
    "id": "ipCxIee0acMd"
   },
   "source": [
    "#### KernalSize 4 and one more hidden layer\n",
    "\n",
    "Increase the kernal or filter size by 1 and adding one more hidden layer to model "
   ]
  },
  {
   "cell_type": "code",
   "execution_count": 18,
   "metadata": {
    "colab": {
     "base_uri": "https://localhost:8080/",
     "height": 763
    },
    "colab_type": "code",
    "id": "OFh_BI9hacMe",
    "outputId": "fff41f1e-7d9f-4965-869f-543d24f35430"
   },
   "outputs": [
    {
     "name": "stdout",
     "output_type": "stream",
     "text": [
      "_________________________________________________________________\n",
      "Layer (type)                 Output Shape              Param #   \n",
      "=================================================================\n",
      "conv2d_7 (Conv2D)            (None, 147, 147, 32)      544       \n",
      "_________________________________________________________________\n",
      "activation_11 (Activation)   (None, 147, 147, 32)      0         \n",
      "_________________________________________________________________\n",
      "max_pooling2d_7 (MaxPooling2 (None, 73, 73, 32)        0         \n",
      "_________________________________________________________________\n",
      "conv2d_8 (Conv2D)            (None, 70, 70, 32)        16416     \n",
      "_________________________________________________________________\n",
      "activation_12 (Activation)   (None, 70, 70, 32)        0         \n",
      "_________________________________________________________________\n",
      "max_pooling2d_8 (MaxPooling2 (None, 35, 35, 32)        0         \n",
      "_________________________________________________________________\n",
      "conv2d_9 (Conv2D)            (None, 32, 32, 64)        32832     \n",
      "_________________________________________________________________\n",
      "activation_13 (Activation)   (None, 32, 32, 64)        0         \n",
      "_________________________________________________________________\n",
      "max_pooling2d_9 (MaxPooling2 (None, 16, 16, 64)        0         \n",
      "_________________________________________________________________\n",
      "conv2d_10 (Conv2D)           (None, 13, 13, 64)        65600     \n",
      "_________________________________________________________________\n",
      "activation_14 (Activation)   (None, 13, 13, 64)        0         \n",
      "_________________________________________________________________\n",
      "max_pooling2d_10 (MaxPooling (None, 6, 6, 64)          0         \n",
      "_________________________________________________________________\n",
      "flatten_3 (Flatten)          (None, 2304)              0         \n",
      "_________________________________________________________________\n",
      "dense_5 (Dense)              (None, 256)               590080    \n",
      "_________________________________________________________________\n",
      "activation_15 (Activation)   (None, 256)               0         \n",
      "_________________________________________________________________\n",
      "dropout_3 (Dropout)          (None, 256)               0         \n",
      "_________________________________________________________________\n",
      "dense_6 (Dense)              (None, 4)                 1028      \n",
      "_________________________________________________________________\n",
      "activation_16 (Activation)   (None, 4)                 0         \n",
      "=================================================================\n",
      "Total params: 706,500\n",
      "Trainable params: 706,500\n",
      "Non-trainable params: 0\n",
      "_________________________________________________________________\n"
     ]
    }
   ],
   "source": [
    "model = Sequential()\n",
    "model.add(Conv2D(32, (4,4), input_shape=input_shape))\n",
    "model.add(Activation('relu'))\n",
    "model.add(MaxPooling2D(pool_size=(2,2)))\n",
    "\n",
    "model.add(Conv2D(32, (4,4)))\n",
    "model.add(Activation('relu'))\n",
    "model.add(MaxPooling2D(pool_size=(2,2)))\n",
    "\n",
    "model.add(Conv2D(64, (4,4)))\n",
    "model.add(Activation('relu'))\n",
    "model.add(MaxPooling2D(pool_size=(2,2)))\n",
    "\n",
    "model.add(Conv2D(64, (4,4)))\n",
    "model.add(Activation('relu'))\n",
    "model.add(MaxPooling2D(pool_size=(2,2)))\n",
    "\n",
    "model.add(Flatten())\n",
    "model.add(Dense(256))\n",
    "model.add(Activation('relu'))\n",
    "model.add(Dropout(0.5))\n",
    "model.add(Dense(num_classes))\n",
    "model.add(Activation('softmax'))\n",
    "\n",
    "\n",
    "\n",
    "model.compile(loss='binary_crossentropy',\n",
    "              optimizer='adam',\n",
    "              metrics=['accuracy'])\n",
    "\n",
    "model.summary()"
   ]
  },
  {
   "cell_type": "markdown",
   "metadata": {},
   "source": [
    "Train the model"
   ]
  },
  {
   "cell_type": "code",
   "execution_count": 19,
   "metadata": {
    "colab": {
     "base_uri": "https://localhost:8080/",
     "height": 3521
    },
    "colab_type": "code",
    "id": "hJ9KkCoBacMg",
    "outputId": "935ad0c0-397e-4ad7-fbd0-da802ee2788f"
   },
   "outputs": [
    {
     "name": "stdout",
     "output_type": "stream",
     "text": [
      "Train on 6704 samples, validate on 1676 samples\n",
      "Epoch 1/100\n",
      "6704/6704 [==============================] - 7s 1ms/step - loss: 0.5070 - acc: 0.7619 - val_loss: 0.4365 - val_acc: 0.7894\n",
      "Epoch 2/100\n",
      "6704/6704 [==============================] - 5s 732us/step - loss: 0.4365 - acc: 0.7965 - val_loss: 0.3978 - val_acc: 0.8104\n",
      "Epoch 3/100\n",
      "6704/6704 [==============================] - 5s 734us/step - loss: 0.3841 - acc: 0.8267 - val_loss: 0.3282 - val_acc: 0.8558\n",
      "Epoch 4/100\n",
      "6704/6704 [==============================] - 5s 737us/step - loss: 0.3244 - acc: 0.8576 - val_loss: 0.2796 - val_acc: 0.8760\n",
      "Epoch 5/100\n",
      "6704/6704 [==============================] - 5s 736us/step - loss: 0.2763 - acc: 0.8801 - val_loss: 0.2363 - val_acc: 0.9054\n",
      "Epoch 6/100\n",
      "6704/6704 [==============================] - 5s 747us/step - loss: 0.2389 - acc: 0.9009 - val_loss: 0.2154 - val_acc: 0.9117\n",
      "Epoch 7/100\n",
      "6704/6704 [==============================] - 5s 745us/step - loss: 0.2098 - acc: 0.9127 - val_loss: 0.2009 - val_acc: 0.9211\n",
      "Epoch 8/100\n",
      "6704/6704 [==============================] - 5s 742us/step - loss: 0.1871 - acc: 0.9234 - val_loss: 0.1701 - val_acc: 0.9347\n",
      "Epoch 9/100\n",
      "6704/6704 [==============================] - 5s 735us/step - loss: 0.1653 - acc: 0.9350 - val_loss: 0.1629 - val_acc: 0.9405\n",
      "Epoch 10/100\n",
      "6704/6704 [==============================] - 5s 732us/step - loss: 0.1434 - acc: 0.9435 - val_loss: 0.1607 - val_acc: 0.9399\n",
      "Epoch 11/100\n",
      "6704/6704 [==============================] - 5s 734us/step - loss: 0.1342 - acc: 0.9463 - val_loss: 0.1483 - val_acc: 0.9423\n",
      "Epoch 12/100\n",
      "6704/6704 [==============================] - 5s 729us/step - loss: 0.1218 - acc: 0.9513 - val_loss: 0.1481 - val_acc: 0.9424\n",
      "Epoch 13/100\n",
      "6704/6704 [==============================] - 5s 728us/step - loss: 0.1130 - acc: 0.9558 - val_loss: 0.1596 - val_acc: 0.9385\n",
      "Epoch 14/100\n",
      "6704/6704 [==============================] - 5s 728us/step - loss: 0.0980 - acc: 0.9609 - val_loss: 0.1569 - val_acc: 0.9421\n",
      "Epoch 15/100\n",
      "6704/6704 [==============================] - 5s 727us/step - loss: 0.0971 - acc: 0.9615 - val_loss: 0.1619 - val_acc: 0.9430\n",
      "Epoch 16/100\n",
      "6704/6704 [==============================] - 5s 729us/step - loss: 0.0885 - acc: 0.9662 - val_loss: 0.1467 - val_acc: 0.9457\n",
      "Epoch 17/100\n",
      "6704/6704 [==============================] - 5s 729us/step - loss: 0.0714 - acc: 0.9717 - val_loss: 0.1556 - val_acc: 0.9484\n",
      "Epoch 18/100\n",
      "6704/6704 [==============================] - 5s 734us/step - loss: 0.0732 - acc: 0.9708 - val_loss: 0.1608 - val_acc: 0.9453\n",
      "Epoch 19/100\n",
      "6704/6704 [==============================] - 5s 736us/step - loss: 0.0680 - acc: 0.9726 - val_loss: 0.1582 - val_acc: 0.9463\n",
      "Epoch 20/100\n",
      "6704/6704 [==============================] - 5s 733us/step - loss: 0.0668 - acc: 0.9736 - val_loss: 0.1642 - val_acc: 0.9487\n",
      "Epoch 21/100\n",
      "6704/6704 [==============================] - 5s 735us/step - loss: 0.0565 - acc: 0.9783 - val_loss: 0.2104 - val_acc: 0.9375\n",
      "Epoch 22/100\n",
      "6704/6704 [==============================] - 5s 732us/step - loss: 0.0502 - acc: 0.9803 - val_loss: 0.1753 - val_acc: 0.9499\n",
      "Epoch 23/100\n",
      "6704/6704 [==============================] - 5s 741us/step - loss: 0.0520 - acc: 0.9783 - val_loss: 0.1911 - val_acc: 0.9487\n",
      "Epoch 24/100\n",
      "6704/6704 [==============================] - 5s 741us/step - loss: 0.0479 - acc: 0.9803 - val_loss: 0.1907 - val_acc: 0.9499\n",
      "Epoch 25/100\n",
      "6704/6704 [==============================] - 5s 731us/step - loss: 0.0492 - acc: 0.9816 - val_loss: 0.1912 - val_acc: 0.9462\n",
      "Epoch 26/100\n",
      "6704/6704 [==============================] - 5s 729us/step - loss: 0.0416 - acc: 0.9843 - val_loss: 0.2035 - val_acc: 0.9484\n",
      "Epoch 27/100\n",
      "6704/6704 [==============================] - 5s 728us/step - loss: 0.0413 - acc: 0.9838 - val_loss: 0.1926 - val_acc: 0.9502\n",
      "Epoch 28/100\n",
      "6704/6704 [==============================] - 5s 729us/step - loss: 0.0377 - acc: 0.9859 - val_loss: 0.2144 - val_acc: 0.9479\n",
      "Epoch 29/100\n",
      "6704/6704 [==============================] - 5s 730us/step - loss: 0.0386 - acc: 0.9842 - val_loss: 0.2044 - val_acc: 0.9475\n",
      "Epoch 30/100\n",
      "6704/6704 [==============================] - 5s 728us/step - loss: 0.0360 - acc: 0.9865 - val_loss: 0.2158 - val_acc: 0.9509\n",
      "Epoch 31/100\n",
      "6704/6704 [==============================] - 5s 730us/step - loss: 0.0349 - acc: 0.9857 - val_loss: 0.2092 - val_acc: 0.9493\n",
      "Epoch 32/100\n",
      "6704/6704 [==============================] - 5s 726us/step - loss: 0.0297 - acc: 0.9893 - val_loss: 0.2220 - val_acc: 0.9530\n",
      "Epoch 33/100\n",
      "6704/6704 [==============================] - 5s 726us/step - loss: 0.0355 - acc: 0.9850 - val_loss: 0.2252 - val_acc: 0.9467\n",
      "Epoch 34/100\n",
      "6704/6704 [==============================] - 5s 728us/step - loss: 0.0299 - acc: 0.9897 - val_loss: 0.2268 - val_acc: 0.9508\n",
      "Epoch 35/100\n",
      "6704/6704 [==============================] - 5s 727us/step - loss: 0.0268 - acc: 0.9897 - val_loss: 0.2281 - val_acc: 0.9462\n",
      "Epoch 36/100\n",
      "6704/6704 [==============================] - 5s 726us/step - loss: 0.0277 - acc: 0.9896 - val_loss: 0.2688 - val_acc: 0.9476\n",
      "Epoch 37/100\n",
      "6704/6704 [==============================] - 5s 727us/step - loss: 0.0272 - acc: 0.9885 - val_loss: 0.2613 - val_acc: 0.9451\n",
      "Epoch 38/100\n",
      "6704/6704 [==============================] - 5s 730us/step - loss: 0.0255 - acc: 0.9906 - val_loss: 0.2441 - val_acc: 0.9481\n",
      "Epoch 39/100\n",
      "6704/6704 [==============================] - 5s 735us/step - loss: 0.0224 - acc: 0.9919 - val_loss: 0.2427 - val_acc: 0.9473\n",
      "Epoch 40/100\n",
      "6704/6704 [==============================] - 5s 739us/step - loss: 0.0226 - acc: 0.9920 - val_loss: 0.2390 - val_acc: 0.9499\n",
      "Epoch 41/100\n",
      "6704/6704 [==============================] - 5s 729us/step - loss: 0.0191 - acc: 0.9931 - val_loss: 0.2735 - val_acc: 0.9421\n",
      "Epoch 42/100\n",
      "6704/6704 [==============================] - 5s 725us/step - loss: 0.0240 - acc: 0.9915 - val_loss: 0.2551 - val_acc: 0.9469\n",
      "Epoch 43/100\n",
      "6704/6704 [==============================] - 5s 729us/step - loss: 0.0222 - acc: 0.9915 - val_loss: 0.2546 - val_acc: 0.9463\n",
      "Epoch 44/100\n",
      "6704/6704 [==============================] - 5s 745us/step - loss: 0.0196 - acc: 0.9922 - val_loss: 0.2459 - val_acc: 0.9481\n",
      "Epoch 45/100\n",
      "6704/6704 [==============================] - 5s 746us/step - loss: 0.0191 - acc: 0.9927 - val_loss: 0.2718 - val_acc: 0.9488\n",
      "Epoch 46/100\n",
      "6704/6704 [==============================] - 5s 732us/step - loss: 0.0163 - acc: 0.9939 - val_loss: 0.2763 - val_acc: 0.9484\n",
      "Epoch 47/100\n",
      "6704/6704 [==============================] - 5s 729us/step - loss: 0.0165 - acc: 0.9934 - val_loss: 0.2620 - val_acc: 0.9503\n",
      "Epoch 48/100\n",
      "6704/6704 [==============================] - 5s 727us/step - loss: 0.0160 - acc: 0.9947 - val_loss: 0.2701 - val_acc: 0.9508\n",
      "Epoch 49/100\n",
      "6704/6704 [==============================] - 5s 728us/step - loss: 0.0167 - acc: 0.9944 - val_loss: 0.2482 - val_acc: 0.9493\n",
      "Epoch 50/100\n",
      "6704/6704 [==============================] - 5s 724us/step - loss: 0.0191 - acc: 0.9921 - val_loss: 0.2662 - val_acc: 0.9445\n",
      "Epoch 51/100\n",
      "6704/6704 [==============================] - 5s 735us/step - loss: 0.0189 - acc: 0.9924 - val_loss: 0.2267 - val_acc: 0.9527\n",
      "Epoch 52/100\n",
      "6704/6704 [==============================] - 5s 733us/step - loss: 0.0168 - acc: 0.9944 - val_loss: 0.2783 - val_acc: 0.9490\n",
      "Epoch 53/100\n",
      "6704/6704 [==============================] - 5s 726us/step - loss: 0.0147 - acc: 0.9952 - val_loss: 0.2809 - val_acc: 0.9535\n",
      "Epoch 54/100\n",
      "6704/6704 [==============================] - 5s 724us/step - loss: 0.0156 - acc: 0.9942 - val_loss: 0.2792 - val_acc: 0.9499\n",
      "Epoch 55/100\n",
      "6704/6704 [==============================] - 5s 730us/step - loss: 0.0123 - acc: 0.9959 - val_loss: 0.2812 - val_acc: 0.9505\n",
      "Epoch 56/100\n",
      "6704/6704 [==============================] - 5s 734us/step - loss: 0.0149 - acc: 0.9949 - val_loss: 0.2453 - val_acc: 0.9536\n",
      "Epoch 57/100\n",
      "6704/6704 [==============================] - 5s 732us/step - loss: 0.0132 - acc: 0.9955 - val_loss: 0.2957 - val_acc: 0.9481\n",
      "Epoch 58/100\n",
      "6704/6704 [==============================] - 5s 727us/step - loss: 0.0098 - acc: 0.9966 - val_loss: 0.3030 - val_acc: 0.9488\n",
      "Epoch 59/100\n",
      "6704/6704 [==============================] - 5s 727us/step - loss: 0.0094 - acc: 0.9964 - val_loss: 0.2853 - val_acc: 0.9518\n",
      "Epoch 60/100\n",
      "6704/6704 [==============================] - 5s 727us/step - loss: 0.0131 - acc: 0.9964 - val_loss: 0.3025 - val_acc: 0.9502\n",
      "Epoch 61/100\n",
      "6704/6704 [==============================] - 5s 726us/step - loss: 0.0116 - acc: 0.9957 - val_loss: 0.2816 - val_acc: 0.9526\n",
      "Epoch 62/100\n",
      "6704/6704 [==============================] - 5s 727us/step - loss: 0.0102 - acc: 0.9971 - val_loss: 0.2880 - val_acc: 0.9527\n",
      "Epoch 63/100\n",
      "6704/6704 [==============================] - 5s 727us/step - loss: 0.0094 - acc: 0.9966 - val_loss: 0.2975 - val_acc: 0.9497\n",
      "Epoch 64/100\n",
      "6704/6704 [==============================] - 5s 729us/step - loss: 0.0240 - acc: 0.9916 - val_loss: 0.2850 - val_acc: 0.9448\n",
      "Epoch 65/100\n",
      "6704/6704 [==============================] - 5s 727us/step - loss: 0.0135 - acc: 0.9949 - val_loss: 0.3372 - val_acc: 0.9472\n",
      "Epoch 66/100\n",
      "6704/6704 [==============================] - 5s 729us/step - loss: 0.0130 - acc: 0.9960 - val_loss: 0.2835 - val_acc: 0.9469\n",
      "Epoch 67/100\n",
      "6704/6704 [==============================] - 5s 728us/step - loss: 0.0171 - acc: 0.9949 - val_loss: 0.2957 - val_acc: 0.9491\n",
      "Epoch 68/100\n",
      "6704/6704 [==============================] - 5s 731us/step - loss: 0.0129 - acc: 0.9957 - val_loss: 0.2799 - val_acc: 0.9500\n",
      "Epoch 69/100\n",
      "6704/6704 [==============================] - 5s 734us/step - loss: 0.0136 - acc: 0.9955 - val_loss: 0.3138 - val_acc: 0.9460\n",
      "Epoch 70/100\n",
      "6704/6704 [==============================] - 5s 729us/step - loss: 0.0182 - acc: 0.9939 - val_loss: 0.2618 - val_acc: 0.9506\n",
      "Epoch 71/100\n",
      "6704/6704 [==============================] - 5s 728us/step - loss: 0.0143 - acc: 0.9953 - val_loss: 0.2983 - val_acc: 0.9518\n",
      "Epoch 72/100\n",
      "6704/6704 [==============================] - 5s 737us/step - loss: 0.0114 - acc: 0.9966 - val_loss: 0.2875 - val_acc: 0.9524\n",
      "Epoch 73/100\n",
      "6704/6704 [==============================] - 5s 734us/step - loss: 0.0059 - acc: 0.9981 - val_loss: 0.2952 - val_acc: 0.9529\n",
      "Epoch 74/100\n",
      "6704/6704 [==============================] - 5s 728us/step - loss: 0.0056 - acc: 0.9982 - val_loss: 0.3281 - val_acc: 0.9491\n",
      "Epoch 75/100\n",
      "6704/6704 [==============================] - 5s 723us/step - loss: 0.0100 - acc: 0.9967 - val_loss: 0.2988 - val_acc: 0.9530\n",
      "Epoch 76/100\n",
      "6704/6704 [==============================] - 5s 729us/step - loss: 0.0089 - acc: 0.9973 - val_loss: 0.3084 - val_acc: 0.9529\n",
      "Epoch 77/100\n",
      "6704/6704 [==============================] - 5s 729us/step - loss: 0.0066 - acc: 0.9977 - val_loss: 0.3185 - val_acc: 0.9555\n",
      "Epoch 78/100\n",
      "6704/6704 [==============================] - 5s 728us/step - loss: 0.0060 - acc: 0.9982 - val_loss: 0.3034 - val_acc: 0.9570\n",
      "Epoch 79/100\n",
      "6704/6704 [==============================] - 5s 727us/step - loss: 0.0072 - acc: 0.9981 - val_loss: 0.2868 - val_acc: 0.9560\n",
      "Epoch 80/100\n",
      "6704/6704 [==============================] - 5s 725us/step - loss: 0.0044 - acc: 0.9988 - val_loss: 0.3227 - val_acc: 0.9520\n",
      "Epoch 81/100\n",
      "6704/6704 [==============================] - 5s 725us/step - loss: 0.0079 - acc: 0.9968 - val_loss: 0.3254 - val_acc: 0.9456\n",
      "Epoch 82/100\n",
      "6704/6704 [==============================] - 5s 727us/step - loss: 0.0139 - acc: 0.9955 - val_loss: 0.2878 - val_acc: 0.9503\n",
      "Epoch 83/100\n",
      "6704/6704 [==============================] - 5s 729us/step - loss: 0.0183 - acc: 0.9931 - val_loss: 0.3015 - val_acc: 0.9463\n",
      "Epoch 84/100\n",
      "6704/6704 [==============================] - 5s 726us/step - loss: 0.0115 - acc: 0.9962 - val_loss: 0.2767 - val_acc: 0.9523\n",
      "Epoch 85/100\n",
      "6704/6704 [==============================] - 5s 725us/step - loss: 0.0061 - acc: 0.9978 - val_loss: 0.3028 - val_acc: 0.9505\n",
      "Epoch 86/100\n",
      "6704/6704 [==============================] - 5s 724us/step - loss: 0.0068 - acc: 0.9976 - val_loss: 0.3128 - val_acc: 0.9517\n",
      "Epoch 87/100\n",
      "6704/6704 [==============================] - 5s 724us/step - loss: 0.0056 - acc: 0.9982 - val_loss: 0.3307 - val_acc: 0.9484\n",
      "Epoch 88/100\n",
      "6704/6704 [==============================] - 5s 730us/step - loss: 0.0064 - acc: 0.9978 - val_loss: 0.3527 - val_acc: 0.9496\n",
      "Epoch 89/100\n",
      "6704/6704 [==============================] - 5s 733us/step - loss: 0.0055 - acc: 0.9980 - val_loss: 0.3596 - val_acc: 0.9503\n",
      "Epoch 90/100\n",
      "6704/6704 [==============================] - 5s 733us/step - loss: 0.0068 - acc: 0.9975 - val_loss: 0.3280 - val_acc: 0.9526\n",
      "Epoch 91/100\n",
      "6704/6704 [==============================] - 5s 726us/step - loss: 0.0058 - acc: 0.9982 - val_loss: 0.3123 - val_acc: 0.9502\n",
      "Epoch 92/100\n",
      "6704/6704 [==============================] - 5s 726us/step - loss: 0.0051 - acc: 0.9982 - val_loss: 0.3509 - val_acc: 0.9506\n",
      "Epoch 93/100\n",
      "6704/6704 [==============================] - 5s 729us/step - loss: 0.0033 - acc: 0.9990 - val_loss: 0.3927 - val_acc: 0.9464\n",
      "Epoch 94/100\n",
      "6704/6704 [==============================] - 5s 727us/step - loss: 0.0040 - acc: 0.9987 - val_loss: 0.3853 - val_acc: 0.9475\n",
      "Epoch 95/100\n",
      "6704/6704 [==============================] - 5s 732us/step - loss: 0.0046 - acc: 0.9985 - val_loss: 0.3346 - val_acc: 0.9570\n",
      "Epoch 96/100\n",
      "6704/6704 [==============================] - 5s 726us/step - loss: 0.0080 - acc: 0.9972 - val_loss: 0.3239 - val_acc: 0.9570\n",
      "Epoch 97/100\n",
      "6704/6704 [==============================] - 5s 726us/step - loss: 0.0091 - acc: 0.9968 - val_loss: 0.3148 - val_acc: 0.9538\n",
      "Epoch 98/100\n",
      "6704/6704 [==============================] - 5s 723us/step - loss: 0.0162 - acc: 0.9949 - val_loss: 0.3066 - val_acc: 0.9490\n",
      "Epoch 99/100\n",
      "6704/6704 [==============================] - 5s 724us/step - loss: 0.0177 - acc: 0.9942 - val_loss: 0.2881 - val_acc: 0.9503\n",
      "Epoch 100/100\n",
      "6704/6704 [==============================] - 5s 726us/step - loss: 0.0101 - acc: 0.9972 - val_loss: 0.3213 - val_acc: 0.9430\n"
     ]
    }
   ],
   "source": [
    "class_weights = class_weight.compute_class_weight('balanced',\n",
    "                                                 np.unique(y_train),\n",
    "                                                 y_train)\n",
    "\n",
    "# Set up the callback to save the best model based on validation data\n",
    "best_weights_filepath = './best_weights_notebook21.hdf51'\n",
    "mcp = ModelCheckpoint(best_weights_filepath, monitor=\"val_acc\",\n",
    "                      save_best_only=True, save_weights_only=False)\n",
    "\n",
    "\n",
    "history = model.fit(X_train, y_train_wide,\n",
    "          batch_size=batch_size,\n",
    "          epochs=epochs,\n",
    "          verbose = 1,\n",
    "          validation_split = 0.2,\n",
    "          shuffle=True,\n",
    "          callbacks=[mcp],\n",
    "           class_weight=class_weights)\n",
    "\n",
    "#reload best weights\n",
    "model.load_weights(best_weights_filepath)"
   ]
  },
  {
   "cell_type": "markdown",
   "metadata": {},
   "source": [
    "Plot losses"
   ]
  },
  {
   "cell_type": "code",
   "execution_count": 20,
   "metadata": {
    "colab": {
     "base_uri": "https://localhost:8080/",
     "height": 283
    },
    "colab_type": "code",
    "id": "CmzLCO4ZacMi",
    "outputId": "3868aadc-28b1-424b-f57c-6f8555b5a099"
   },
   "outputs": [
    {
     "data": {
      "image/png": "[encoded data removed]",
      "text/plain": [
       "<Figure size 432x288 with 1 Axes>"
      ]
     },
     "metadata": {
      "tags": []
     },
     "output_type": "display_data"
    }
   ],
   "source": [
    "loss = history.history['loss']\n",
    "val_loss = history.history['val_loss']\n",
    "\n",
    "plt.xlabel('Epochs')\n",
    "plt.ylabel('Loss')\n",
    "plt.plot(loss, 'blue', label='Training Loss')\n",
    "plt.plot(val_loss, 'green', label='Validation Loss')\n",
    "plt.xticks(range(0,epochs)[0::5])\n",
    "plt.legend()\n",
    "plt.show()"
   ]
  },
  {
   "cell_type": "markdown",
   "metadata": {},
   "source": [
    "Make prediction"
   ]
  },
  {
   "cell_type": "code",
   "execution_count": 26,
   "metadata": {
    "colab": {
     "base_uri": "https://localhost:8080/",
     "height": 312
    },
    "colab_type": "code",
    "id": "MswRpViuacMl",
    "outputId": "54390a03-69fe-41e8-a894-9c0476cde27e"
   },
   "outputs": [
    {
     "name": "stdout",
     "output_type": "stream",
     "text": [
      "Accuracy: 0.891846455589801\n",
      "              precision    recall  f1-score   support\n",
      "\n",
      "           0       0.84      0.79      0.81       890\n",
      "           1       0.82      0.77      0.80       854\n",
      "           2       0.93      1.00      0.97       914\n",
      "           3       0.95      1.00      0.97       911\n",
      "\n",
      "   micro avg       0.89      0.89      0.89      3569\n",
      "   macro avg       0.89      0.89      0.89      3569\n",
      "weighted avg       0.89      0.89      0.89      3569\n",
      "\n",
      "Confusion matrix\n",
      "[[700 140  26  24]\n",
      " [130 658  39  27]\n",
      " [  0   0 914   0]\n",
      " [  0   0   0 911]]\n"
     ]
    }
   ],
   "source": [
    "# Make a set of predictions for the test data\n",
    "pred = model.predict_classes(X_test)\n",
    "\n",
    "# Print performance details\n",
    "accuracy = metrics.accuracy_score(y_test_num, pred) # normalize=True, sample_weight=None\n",
    "task_accuracy_comparisons[\"Kernalsize4_and_extraHiddenLayer\"] = accuracy\n",
    "print(\"Accuracy: \" +  str(accuracy))\n",
    "print(metrics.classification_report(y_test_num, pred))\n",
    "print(\"Confusion matrix\")\n",
    "\n",
    "print(metrics.confusion_matrix(y_test_num, pred))"
   ]
  },
  {
   "cell_type": "markdown",
   "metadata": {
    "colab": {},
    "colab_type": "code",
    "id": "WqMr5xh8S5wU"
   },
   "source": [
    "Kernal size 3 and a extra hidden layer"
   ]
  },
  {
   "cell_type": "code",
   "execution_count": 21,
   "metadata": {
    "colab": {
     "base_uri": "https://localhost:8080/",
     "height": 763
    },
    "colab_type": "code",
    "id": "pJvBtVSSW3Lx",
    "outputId": "5fd758f0-3802-4ca2-85ac-54c03b3e03d5"
   },
   "outputs": [
    {
     "name": "stdout",
     "output_type": "stream",
     "text": [
      "_________________________________________________________________\n",
      "Layer (type)                 Output Shape              Param #   \n",
      "=================================================================\n",
      "conv2d_11 (Conv2D)           (None, 148, 148, 32)      320       \n",
      "_________________________________________________________________\n",
      "activation_17 (Activation)   (None, 148, 148, 32)      0         \n",
      "_________________________________________________________________\n",
      "max_pooling2d_11 (MaxPooling (None, 74, 74, 32)        0         \n",
      "_________________________________________________________________\n",
      "conv2d_12 (Conv2D)           (None, 72, 72, 32)        9248      \n",
      "_________________________________________________________________\n",
      "activation_18 (Activation)   (None, 72, 72, 32)        0         \n",
      "_________________________________________________________________\n",
      "max_pooling2d_12 (MaxPooling (None, 36, 36, 32)        0         \n",
      "_________________________________________________________________\n",
      "conv2d_13 (Conv2D)           (None, 34, 34, 64)        18496     \n",
      "_________________________________________________________________\n",
      "activation_19 (Activation)   (None, 34, 34, 64)        0         \n",
      "_________________________________________________________________\n",
      "max_pooling2d_13 (MaxPooling (None, 17, 17, 64)        0         \n",
      "_________________________________________________________________\n",
      "conv2d_14 (Conv2D)           (None, 15, 15, 64)        36928     \n",
      "_________________________________________________________________\n",
      "activation_20 (Activation)   (None, 15, 15, 64)        0         \n",
      "_________________________________________________________________\n",
      "max_pooling2d_14 (MaxPooling (None, 7, 7, 64)          0         \n",
      "_________________________________________________________________\n",
      "flatten_4 (Flatten)          (None, 3136)              0         \n",
      "_________________________________________________________________\n",
      "dense_7 (Dense)              (None, 256)               803072    \n",
      "_________________________________________________________________\n",
      "activation_21 (Activation)   (None, 256)               0         \n",
      "_________________________________________________________________\n",
      "dropout_4 (Dropout)          (None, 256)               0         \n",
      "_________________________________________________________________\n",
      "dense_8 (Dense)              (None, 4)                 1028      \n",
      "_________________________________________________________________\n",
      "activation_22 (Activation)   (None, 4)                 0         \n",
      "=================================================================\n",
      "Total params: 869,092\n",
      "Trainable params: 869,092\n",
      "Non-trainable params: 0\n",
      "_________________________________________________________________\n"
     ]
    }
   ],
   "source": [
    "model = Sequential()\n",
    "model.add(Conv2D(32, (3,3), input_shape=input_shape))\n",
    "model.add(Activation('relu'))\n",
    "model.add(MaxPooling2D(pool_size=(2,2)))\n",
    "\n",
    "model.add(Conv2D(32, (3,3)))\n",
    "model.add(Activation('relu'))\n",
    "model.add(MaxPooling2D(pool_size=(2,2)))\n",
    "\n",
    "model.add(Conv2D(64, (3,3)))\n",
    "model.add(Activation('relu'))\n",
    "model.add(MaxPooling2D(pool_size=(2,2)))\n",
    "\n",
    "model.add(Conv2D(64, (3,3)))\n",
    "model.add(Activation('relu'))\n",
    "model.add(MaxPooling2D(pool_size=(2,2)))\n",
    "\n",
    "model.add(Flatten())\n",
    "model.add(Dense(256))\n",
    "model.add(Activation('relu'))\n",
    "model.add(Dropout(0.5))\n",
    "model.add(Dense(num_classes))\n",
    "model.add(Activation('softmax'))\n",
    "\n",
    "\n",
    "\n",
    "model.compile(loss='binary_crossentropy',\n",
    "              optimizer='adam',\n",
    "              metrics=['accuracy'])\n",
    "\n",
    "model.summary()"
   ]
  },
  {
   "cell_type": "markdown",
   "metadata": {},
   "source": [
    "Fit the model"
   ]
  },
  {
   "cell_type": "code",
   "execution_count": 22,
   "metadata": {
    "colab": {
     "base_uri": "https://localhost:8080/",
     "height": 3521
    },
    "colab_type": "code",
    "id": "11JveXzoW3L4",
    "outputId": "b8b1c7c3-7896-43e2-b877-cac07fcf6927"
   },
   "outputs": [
    {
     "name": "stdout",
     "output_type": "stream",
     "text": [
      "Train on 6704 samples, validate on 1676 samples\n",
      "Epoch 1/100\n",
      "6704/6704 [==============================] - 5s 739us/step - loss: 0.5056 - acc: 0.7622 - val_loss: 0.4365 - val_acc: 0.7988\n",
      "Epoch 2/100\n",
      "6704/6704 [==============================] - 4s 626us/step - loss: 0.4311 - acc: 0.8009 - val_loss: 0.3839 - val_acc: 0.8298\n",
      "Epoch 3/100\n",
      "6704/6704 [==============================] - 4s 627us/step - loss: 0.3704 - acc: 0.8335 - val_loss: 0.3338 - val_acc: 0.8514\n",
      "Epoch 4/100\n",
      "6704/6704 [==============================] - 4s 629us/step - loss: 0.3286 - acc: 0.8543 - val_loss: 0.2887 - val_acc: 0.8766\n",
      "Epoch 5/100\n",
      "6704/6704 [==============================] - 4s 642us/step - loss: 0.2862 - acc: 0.8761 - val_loss: 0.2411 - val_acc: 0.9081\n",
      "Epoch 6/100\n",
      "6704/6704 [==============================] - 4s 638us/step - loss: 0.2425 - acc: 0.8978 - val_loss: 0.2217 - val_acc: 0.9115\n",
      "Epoch 7/100\n",
      "6704/6704 [==============================] - 4s 632us/step - loss: 0.2138 - acc: 0.9142 - val_loss: 0.2010 - val_acc: 0.9189\n",
      "Epoch 8/100\n",
      "6704/6704 [==============================] - 4s 633us/step - loss: 0.1795 - acc: 0.9287 - val_loss: 0.1783 - val_acc: 0.9327\n",
      "Epoch 9/100\n",
      "6704/6704 [==============================] - 4s 636us/step - loss: 0.1653 - acc: 0.9338 - val_loss: 0.1616 - val_acc: 0.9412\n",
      "Epoch 10/100\n",
      "6704/6704 [==============================] - 4s 639us/step - loss: 0.1496 - acc: 0.9393 - val_loss: 0.1597 - val_acc: 0.9387\n",
      "Epoch 11/100\n",
      "6704/6704 [==============================] - 4s 634us/step - loss: 0.1324 - acc: 0.9479 - val_loss: 0.1643 - val_acc: 0.9384\n",
      "Epoch 12/100\n",
      "6704/6704 [==============================] - 4s 631us/step - loss: 0.1154 - acc: 0.9555 - val_loss: 0.1469 - val_acc: 0.9442\n",
      "Epoch 13/100\n",
      "6704/6704 [==============================] - 4s 633us/step - loss: 0.1070 - acc: 0.9553 - val_loss: 0.1435 - val_acc: 0.9479\n",
      "Epoch 14/100\n",
      "6704/6704 [==============================] - 4s 636us/step - loss: 0.1023 - acc: 0.9608 - val_loss: 0.1464 - val_acc: 0.9456\n",
      "Epoch 15/100\n",
      "6704/6704 [==============================] - 4s 634us/step - loss: 0.0896 - acc: 0.9638 - val_loss: 0.1526 - val_acc: 0.9469\n",
      "Epoch 16/100\n",
      "6704/6704 [==============================] - 4s 628us/step - loss: 0.0860 - acc: 0.9667 - val_loss: 0.1395 - val_acc: 0.9500\n",
      "Epoch 17/100\n",
      "6704/6704 [==============================] - 4s 626us/step - loss: 0.0785 - acc: 0.9685 - val_loss: 0.1463 - val_acc: 0.9514\n",
      "Epoch 18/100\n",
      "6704/6704 [==============================] - 4s 629us/step - loss: 0.0744 - acc: 0.9704 - val_loss: 0.1478 - val_acc: 0.9505\n",
      "Epoch 19/100\n",
      "6704/6704 [==============================] - 4s 624us/step - loss: 0.0644 - acc: 0.9752 - val_loss: 0.1700 - val_acc: 0.9426\n",
      "Epoch 20/100\n",
      "6704/6704 [==============================] - 4s 629us/step - loss: 0.0676 - acc: 0.9733 - val_loss: 0.1655 - val_acc: 0.9476\n",
      "Epoch 21/100\n",
      "6704/6704 [==============================] - 4s 627us/step - loss: 0.0616 - acc: 0.9759 - val_loss: 0.1627 - val_acc: 0.9473\n",
      "Epoch 22/100\n",
      "6704/6704 [==============================] - 4s 626us/step - loss: 0.0568 - acc: 0.9776 - val_loss: 0.1731 - val_acc: 0.9506\n",
      "Epoch 23/100\n",
      "6704/6704 [==============================] - 4s 626us/step - loss: 0.0514 - acc: 0.9795 - val_loss: 0.1800 - val_acc: 0.9436\n",
      "Epoch 24/100\n",
      "6704/6704 [==============================] - 4s 625us/step - loss: 0.0509 - acc: 0.9800 - val_loss: 0.1851 - val_acc: 0.9459\n",
      "Epoch 25/100\n",
      "6704/6704 [==============================] - 4s 627us/step - loss: 0.0489 - acc: 0.9809 - val_loss: 0.2229 - val_acc: 0.9412\n",
      "Epoch 26/100\n",
      "6704/6704 [==============================] - 4s 626us/step - loss: 0.0484 - acc: 0.9809 - val_loss: 0.1726 - val_acc: 0.9509\n",
      "Epoch 27/100\n",
      "6704/6704 [==============================] - 4s 626us/step - loss: 0.0445 - acc: 0.9826 - val_loss: 0.1898 - val_acc: 0.9484\n",
      "Epoch 28/100\n",
      "6704/6704 [==============================] - 4s 629us/step - loss: 0.0403 - acc: 0.9851 - val_loss: 0.1883 - val_acc: 0.9490\n",
      "Epoch 29/100\n",
      "6704/6704 [==============================] - 4s 627us/step - loss: 0.0370 - acc: 0.9849 - val_loss: 0.1994 - val_acc: 0.9512\n",
      "Epoch 30/100\n",
      "6704/6704 [==============================] - 4s 628us/step - loss: 0.0349 - acc: 0.9866 - val_loss: 0.2244 - val_acc: 0.9445\n",
      "Epoch 31/100\n",
      "6704/6704 [==============================] - 4s 626us/step - loss: 0.0317 - acc: 0.9884 - val_loss: 0.2136 - val_acc: 0.9512\n",
      "Epoch 32/100\n",
      "6704/6704 [==============================] - 4s 627us/step - loss: 0.0299 - acc: 0.9880 - val_loss: 0.2316 - val_acc: 0.9479\n",
      "Epoch 33/100\n",
      "6704/6704 [==============================] - 4s 638us/step - loss: 0.0323 - acc: 0.9869 - val_loss: 0.2320 - val_acc: 0.9479\n",
      "Epoch 34/100\n",
      "6704/6704 [==============================] - 4s 640us/step - loss: 0.0341 - acc: 0.9865 - val_loss: 0.2315 - val_acc: 0.9472\n",
      "Epoch 35/100\n",
      "6704/6704 [==============================] - 4s 628us/step - loss: 0.0342 - acc: 0.9858 - val_loss: 0.2784 - val_acc: 0.9397\n",
      "Epoch 36/100\n",
      "6704/6704 [==============================] - 4s 628us/step - loss: 0.0292 - acc: 0.9887 - val_loss: 0.2419 - val_acc: 0.9490\n",
      "Epoch 37/100\n",
      "6704/6704 [==============================] - 4s 632us/step - loss: 0.0267 - acc: 0.9900 - val_loss: 0.2373 - val_acc: 0.9476\n",
      "Epoch 38/100\n",
      "6704/6704 [==============================] - 4s 632us/step - loss: 0.0254 - acc: 0.9905 - val_loss: 0.2468 - val_acc: 0.9473\n",
      "Epoch 39/100\n",
      "6704/6704 [==============================] - 4s 629us/step - loss: 0.0282 - acc: 0.9896 - val_loss: 0.2369 - val_acc: 0.9469\n",
      "Epoch 40/100\n",
      "6704/6704 [==============================] - 4s 630us/step - loss: 0.0259 - acc: 0.9899 - val_loss: 0.2312 - val_acc: 0.9497\n",
      "Epoch 41/100\n",
      "6704/6704 [==============================] - 4s 626us/step - loss: 0.0216 - acc: 0.9915 - val_loss: 0.2781 - val_acc: 0.9470\n",
      "Epoch 42/100\n",
      "6704/6704 [==============================] - 4s 626us/step - loss: 0.0238 - acc: 0.9896 - val_loss: 0.2602 - val_acc: 0.9463\n",
      "Epoch 43/100\n",
      "6704/6704 [==============================] - 4s 628us/step - loss: 0.0210 - acc: 0.9923 - val_loss: 0.2610 - val_acc: 0.9503\n",
      "Epoch 44/100\n",
      "6704/6704 [==============================] - 4s 624us/step - loss: 0.0202 - acc: 0.9922 - val_loss: 0.2581 - val_acc: 0.9502\n",
      "Epoch 45/100\n",
      "6704/6704 [==============================] - 4s 623us/step - loss: 0.0168 - acc: 0.9934 - val_loss: 0.2831 - val_acc: 0.9487\n",
      "Epoch 46/100\n",
      "6704/6704 [==============================] - 4s 624us/step - loss: 0.0182 - acc: 0.9932 - val_loss: 0.2527 - val_acc: 0.9529\n",
      "Epoch 47/100\n",
      "6704/6704 [==============================] - 4s 627us/step - loss: 0.0202 - acc: 0.9926 - val_loss: 0.2961 - val_acc: 0.9470\n",
      "Epoch 48/100\n",
      "6704/6704 [==============================] - 4s 625us/step - loss: 0.0224 - acc: 0.9913 - val_loss: 0.2866 - val_acc: 0.9412\n",
      "Epoch 49/100\n",
      "6704/6704 [==============================] - 4s 628us/step - loss: 0.0215 - acc: 0.9915 - val_loss: 0.2552 - val_acc: 0.9488\n",
      "Epoch 50/100\n",
      "6704/6704 [==============================] - 4s 625us/step - loss: 0.0182 - acc: 0.9927 - val_loss: 0.2660 - val_acc: 0.9476\n",
      "Epoch 51/100\n",
      "6704/6704 [==============================] - 4s 627us/step - loss: 0.0176 - acc: 0.9936 - val_loss: 0.2844 - val_acc: 0.9470\n",
      "Epoch 52/100\n",
      "6704/6704 [==============================] - 4s 635us/step - loss: 0.0182 - acc: 0.9938 - val_loss: 0.2986 - val_acc: 0.9496\n",
      "Epoch 53/100\n",
      "6704/6704 [==============================] - 4s 635us/step - loss: 0.0236 - acc: 0.9909 - val_loss: 0.2793 - val_acc: 0.9490\n",
      "Epoch 54/100\n",
      "6704/6704 [==============================] - 4s 629us/step - loss: 0.0179 - acc: 0.9929 - val_loss: 0.2836 - val_acc: 0.9520\n",
      "Epoch 55/100\n",
      "6704/6704 [==============================] - 4s 626us/step - loss: 0.0158 - acc: 0.9938 - val_loss: 0.3104 - val_acc: 0.9479\n",
      "Epoch 56/100\n",
      "6704/6704 [==============================] - 4s 628us/step - loss: 0.0143 - acc: 0.9952 - val_loss: 0.2830 - val_acc: 0.9508\n",
      "Epoch 57/100\n",
      "6704/6704 [==============================] - 4s 627us/step - loss: 0.0173 - acc: 0.9936 - val_loss: 0.2799 - val_acc: 0.9484\n",
      "Epoch 58/100\n",
      "6704/6704 [==============================] - 4s 629us/step - loss: 0.0137 - acc: 0.9954 - val_loss: 0.2827 - val_acc: 0.9505\n",
      "Epoch 59/100\n",
      "6704/6704 [==============================] - 4s 623us/step - loss: 0.0149 - acc: 0.9943 - val_loss: 0.2846 - val_acc: 0.9520\n",
      "Epoch 60/100\n",
      "6704/6704 [==============================] - 4s 626us/step - loss: 0.0170 - acc: 0.9946 - val_loss: 0.3145 - val_acc: 0.9491\n",
      "Epoch 61/100\n",
      "6704/6704 [==============================] - 4s 626us/step - loss: 0.0161 - acc: 0.9938 - val_loss: 0.3034 - val_acc: 0.9464\n",
      "Epoch 62/100\n",
      "6704/6704 [==============================] - 4s 625us/step - loss: 0.0170 - acc: 0.9936 - val_loss: 0.2917 - val_acc: 0.9521\n",
      "Epoch 63/100\n",
      "6704/6704 [==============================] - 4s 626us/step - loss: 0.0140 - acc: 0.9944 - val_loss: 0.2942 - val_acc: 0.9506\n",
      "Epoch 64/100\n",
      "6704/6704 [==============================] - 4s 628us/step - loss: 0.0134 - acc: 0.9950 - val_loss: 0.3203 - val_acc: 0.9466\n",
      "Epoch 65/100\n",
      "6704/6704 [==============================] - 4s 625us/step - loss: 0.0186 - acc: 0.9945 - val_loss: 0.2824 - val_acc: 0.9490\n",
      "Epoch 66/100\n",
      "6704/6704 [==============================] - 4s 627us/step - loss: 0.0149 - acc: 0.9953 - val_loss: 0.3191 - val_acc: 0.9464\n",
      "Epoch 67/100\n",
      "6704/6704 [==============================] - 4s 627us/step - loss: 0.0143 - acc: 0.9946 - val_loss: 0.2992 - val_acc: 0.9490\n",
      "Epoch 68/100\n",
      "6704/6704 [==============================] - 4s 625us/step - loss: 0.0151 - acc: 0.9953 - val_loss: 0.3480 - val_acc: 0.9432\n",
      "Epoch 69/100\n",
      "6704/6704 [==============================] - 4s 629us/step - loss: 0.0170 - acc: 0.9944 - val_loss: 0.3111 - val_acc: 0.9462\n",
      "Epoch 70/100\n",
      "6704/6704 [==============================] - 4s 626us/step - loss: 0.0153 - acc: 0.9945 - val_loss: 0.3070 - val_acc: 0.9493\n",
      "Epoch 71/100\n",
      "6704/6704 [==============================] - 4s 639us/step - loss: 0.0123 - acc: 0.9957 - val_loss: 0.2998 - val_acc: 0.9508\n",
      "Epoch 72/100\n",
      "6704/6704 [==============================] - 4s 640us/step - loss: 0.0146 - acc: 0.9951 - val_loss: 0.2822 - val_acc: 0.9475\n",
      "Epoch 73/100\n",
      "6704/6704 [==============================] - 4s 635us/step - loss: 0.0188 - acc: 0.9938 - val_loss: 0.2990 - val_acc: 0.9488\n",
      "Epoch 74/100\n",
      "6704/6704 [==============================] - 4s 626us/step - loss: 0.0122 - acc: 0.9960 - val_loss: 0.3355 - val_acc: 0.9467\n",
      "Epoch 75/100\n",
      "6704/6704 [==============================] - 4s 625us/step - loss: 0.0114 - acc: 0.9963 - val_loss: 0.3261 - val_acc: 0.9493\n",
      "Epoch 76/100\n",
      "6704/6704 [==============================] - 4s 625us/step - loss: 0.0100 - acc: 0.9962 - val_loss: 0.3112 - val_acc: 0.9499\n",
      "Epoch 77/100\n",
      "6704/6704 [==============================] - 4s 641us/step - loss: 0.0143 - acc: 0.9953 - val_loss: 0.3154 - val_acc: 0.9511\n",
      "Epoch 78/100\n",
      "6704/6704 [==============================] - 4s 631us/step - loss: 0.0114 - acc: 0.9961 - val_loss: 0.3499 - val_acc: 0.9469\n",
      "Epoch 79/100\n",
      "6704/6704 [==============================] - 4s 625us/step - loss: 0.0122 - acc: 0.9956 - val_loss: 0.3267 - val_acc: 0.9479\n",
      "Epoch 80/100\n",
      "6704/6704 [==============================] - 4s 625us/step - loss: 0.0102 - acc: 0.9961 - val_loss: 0.2985 - val_acc: 0.9533\n",
      "Epoch 81/100\n",
      "6704/6704 [==============================] - 4s 626us/step - loss: 0.0069 - acc: 0.9976 - val_loss: 0.3457 - val_acc: 0.9478\n",
      "Epoch 82/100\n",
      "6704/6704 [==============================] - 4s 623us/step - loss: 0.0058 - acc: 0.9981 - val_loss: 0.3583 - val_acc: 0.9491\n",
      "Epoch 83/100\n",
      "6704/6704 [==============================] - 4s 625us/step - loss: 0.0154 - acc: 0.9948 - val_loss: 0.3232 - val_acc: 0.9493\n",
      "Epoch 84/100\n",
      "6704/6704 [==============================] - 4s 625us/step - loss: 0.0111 - acc: 0.9955 - val_loss: 0.3584 - val_acc: 0.9490\n",
      "Epoch 85/100\n",
      "6704/6704 [==============================] - 4s 625us/step - loss: 0.0116 - acc: 0.9962 - val_loss: 0.3433 - val_acc: 0.9478\n",
      "Epoch 86/100\n",
      "6704/6704 [==============================] - 4s 625us/step - loss: 0.0110 - acc: 0.9955 - val_loss: 0.3147 - val_acc: 0.9499\n",
      "Epoch 87/100\n",
      "6704/6704 [==============================] - 4s 624us/step - loss: 0.0112 - acc: 0.9963 - val_loss: 0.3094 - val_acc: 0.9521\n",
      "Epoch 88/100\n",
      "6704/6704 [==============================] - 4s 624us/step - loss: 0.0112 - acc: 0.9957 - val_loss: 0.3413 - val_acc: 0.9490\n",
      "Epoch 89/100\n",
      "6704/6704 [==============================] - 4s 623us/step - loss: 0.0103 - acc: 0.9960 - val_loss: 0.3366 - val_acc: 0.9523\n",
      "Epoch 90/100\n",
      "6704/6704 [==============================] - 4s 638us/step - loss: 0.0134 - acc: 0.9953 - val_loss: 0.3480 - val_acc: 0.9463\n",
      "Epoch 91/100\n",
      "6704/6704 [==============================] - 4s 639us/step - loss: 0.0082 - acc: 0.9971 - val_loss: 0.3381 - val_acc: 0.9517\n",
      "Epoch 92/100\n",
      "6704/6704 [==============================] - 4s 633us/step - loss: 0.0085 - acc: 0.9968 - val_loss: 0.3379 - val_acc: 0.9500\n",
      "Epoch 93/100\n",
      "6704/6704 [==============================] - 4s 630us/step - loss: 0.0083 - acc: 0.9971 - val_loss: 0.3569 - val_acc: 0.9499\n",
      "Epoch 94/100\n",
      "6704/6704 [==============================] - 4s 625us/step - loss: 0.0064 - acc: 0.9977 - val_loss: 0.3681 - val_acc: 0.9482\n",
      "Epoch 95/100\n",
      "6704/6704 [==============================] - 4s 629us/step - loss: 0.0086 - acc: 0.9969 - val_loss: 0.3448 - val_acc: 0.9518\n",
      "Epoch 96/100\n",
      "6704/6704 [==============================] - 4s 627us/step - loss: 0.0083 - acc: 0.9973 - val_loss: 0.3289 - val_acc: 0.9538\n",
      "Epoch 97/100\n",
      "6704/6704 [==============================] - 4s 628us/step - loss: 0.0099 - acc: 0.9963 - val_loss: 0.3365 - val_acc: 0.9508\n",
      "Epoch 98/100\n",
      "6704/6704 [==============================] - 4s 624us/step - loss: 0.0075 - acc: 0.9977 - val_loss: 0.3455 - val_acc: 0.9488\n",
      "Epoch 99/100\n",
      "6704/6704 [==============================] - 4s 625us/step - loss: 0.0070 - acc: 0.9977 - val_loss: 0.3563 - val_acc: 0.9499\n",
      "Epoch 100/100\n",
      "6704/6704 [==============================] - 4s 626us/step - loss: 0.0045 - acc: 0.9987 - val_loss: 0.3702 - val_acc: 0.9482\n"
     ]
    }
   ],
   "source": [
    "class_weights = class_weight.compute_class_weight('balanced',\n",
    "                                                 np.unique(y_train),\n",
    "                                                 y_train)\n",
    "\n",
    "# Set up the callback to save the best model based on validation data\n",
    "best_weights_filepath = './best_weights_notebook21.hdf51'\n",
    "mcp = ModelCheckpoint(best_weights_filepath, monitor=\"val_acc\",\n",
    "                      save_best_only=True, save_weights_only=False)\n",
    "\n",
    "\n",
    "history = model.fit(X_train, y_train_wide,\n",
    "          batch_size=batch_size,\n",
    "          epochs=epochs,\n",
    "          verbose = 1,\n",
    "          validation_split = 0.2,\n",
    "          shuffle=True,\n",
    "          callbacks=[mcp],\n",
    "           class_weight=class_weights)\n",
    "\n",
    "#reload best weights\n",
    "model.load_weights(best_weights_filepath)"
   ]
  },
  {
   "cell_type": "markdown",
   "metadata": {},
   "source": [
    "Plot losses"
   ]
  },
  {
   "cell_type": "code",
   "execution_count": 23,
   "metadata": {
    "colab": {
     "base_uri": "https://localhost:8080/",
     "height": 283
    },
    "colab_type": "code",
    "id": "0n9ozUFtW3L8",
    "outputId": "b7e954d6-922a-4591-fc47-34fd0120037f"
   },
   "outputs": [
    {
     "data": {
      "image/png": "[encoded data removed]",
      "text/plain": [
       "<Figure size 432x288 with 1 Axes>"
      ]
     },
     "metadata": {
      "tags": []
     },
     "output_type": "display_data"
    }
   ],
   "source": [
    "loss = history.history['loss']\n",
    "val_loss = history.history['val_loss']\n",
    "\n",
    "plt.xlabel('Epochs')\n",
    "plt.ylabel('Loss')\n",
    "plt.plot(loss, 'blue', label='Training Loss')\n",
    "plt.plot(val_loss, 'green', label='Validation Loss')\n",
    "plt.xticks(range(0,epochs)[0::5])\n",
    "plt.legend()\n",
    "plt.show()"
   ]
  },
  {
   "cell_type": "markdown",
   "metadata": {},
   "source": [
    "Make prediction"
   ]
  },
  {
   "cell_type": "code",
   "execution_count": 30,
   "metadata": {
    "colab": {
     "base_uri": "https://localhost:8080/",
     "height": 312
    },
    "colab_type": "code",
    "id": "QTXnALYaW3MC",
    "outputId": "04b95d4f-fd4b-45fe-bb51-7d4c5cd79f69"
   },
   "outputs": [
    {
     "name": "stdout",
     "output_type": "stream",
     "text": [
      "Accuracy: 0.9010927430652844\n",
      "              precision    recall  f1-score   support\n",
      "\n",
      "           0       0.84      0.82      0.83       890\n",
      "           1       0.86      0.77      0.81       854\n",
      "           2       0.94      1.00      0.97       914\n",
      "           3       0.96      1.00      0.98       911\n",
      "\n",
      "   micro avg       0.90      0.90      0.90      3569\n",
      "   macro avg       0.90      0.90      0.90      3569\n",
      "weighted avg       0.90      0.90      0.90      3569\n",
      "\n",
      "Confusion matrix\n",
      "[[733 111  32  14]\n",
      " [143 658  26  27]\n",
      " [  0   0 914   0]\n",
      " [  0   0   0 911]]\n"
     ]
    }
   ],
   "source": [
    "# Make a set of predictions for the test data\n",
    "pred = model.predict_classes(X_test)\n",
    "\n",
    "# Print performance details\n",
    "accuracy = metrics.accuracy_score(y_test_num, pred) # normalize=True, sample_weight=None\n",
    "task_accuracy_comparisons[\"Kernalsize3_and_extraHiddenLayer\"] = accuracy\n",
    "print(\"Accuracy: \" +  str(accuracy))\n",
    "print(metrics.classification_report(y_test_num, pred))\n",
    "print(\"Confusion matrix\")\n",
    "\n",
    "print(metrics.confusion_matrix(y_test_num, pred))"
   ]
  },
  {
   "cell_type": "markdown",
   "metadata": {},
   "source": [
    "##### Save the model"
   ]
  },
  {
   "cell_type": "code",
   "execution_count": 0,
   "metadata": {
    "colab": {},
    "colab_type": "code",
    "id": "7P56UMzhS5wn"
   },
   "outputs": [],
   "source": [
    "model.save(\"model_without_frames.h5\")"
   ]
  },
  {
   "cell_type": "markdown",
   "metadata": {
    "colab": {},
    "colab_type": "code",
    "id": "FtvYhTejUujj"
   },
   "source": [
    "### Multiple sequential frames"
   ]
  },
  {
   "cell_type": "markdown",
   "metadata": {},
   "source": [
    "4 Frames are used for this task"
   ]
  },
  {
   "cell_type": "code",
   "execution_count": 0,
   "metadata": {
    "colab": {},
    "colab_type": "code",
    "id": "1Js93JT8Uujl"
   },
   "outputs": [],
   "source": [
    "# dataset\n",
    "train_data_dir = 'LunarLanderFramesPart1/'\n",
    "\n",
    "\n",
    "# desired dimensions of our images.\n",
    "img_width, img_height = 150, 150\n",
    "\n",
    "# different backends (e.g. tensorflow and theano) use different orderings for image data - fix this!\n",
    "if K.image_data_format() == 'channels_first':\n",
    "    input_shape = (3, img_width, img_height)\n",
    "else:\n",
    "    input_shape = (img_width, img_height, 3)\n",
    "    \n",
    "\n",
    "image_filenames = [train_data_dir+i for i in os.listdir(train_data_dir) if not i.startswith('.')] # use this for full dataset"
   ]
  },
  {
   "cell_type": "code",
   "execution_count": 7,
   "metadata": {
    "colab": {
     "base_uri": "https://localhost:8080/",
     "height": 208
    },
    "colab_type": "code",
    "id": "kQIOQM8qUujm",
    "outputId": "a6420ebb-86f9-4053-ce33-798f80f2c382"
   },
   "outputs": [
    {
     "name": "stdout",
     "output_type": "stream",
     "text": [
      "Processed 0 Images\n",
      "Processed 1000 Images\n",
      "Processed 2000 Images\n",
      "Processed 3000 Images\n",
      "Processed 4000 Images\n",
      "Processed 5000 Images\n",
      "Processed 6000 Images\n",
      "Processed 7000 Images\n",
      "Processed 8000 Images\n",
      "Processed 9000 Images\n",
      "Processed 10000 Images\n"
     ]
    }
   ],
   "source": [
    "input_shape = (img_width, img_height,4)\n",
    "X_data_part = np.ndarray((4, 1, input_shape[1], input_shape[0]), dtype=np.float)\n",
    "y_data_part= np.ndarray(0, dtype=np.str)\n",
    "\n",
    "# Initialise arrays for data storage\n",
    "X_data = np.ndarray((round(10000/4), input_shape[0], input_shape[1], input_shape[2]), dtype=np.float)\n",
    "y_data= np.ndarray(0, dtype=np.str)\n",
    "\n",
    "j=0\n",
    "k=0\n",
    "# Iterate through the filenames and for each one load the image, resize and normalise and create a 4 framed image\n",
    "for i, image_file in enumerate(image_filenames):\n",
    "\n",
    "    # Load the images and resize them\n",
    "    image = cv2.imread(image_file, cv2.IMREAD_COLOR)\n",
    "    image = cv2.cvtColor(image,cv2.COLOR_RGB2GRAY)\n",
    "    image = cv2.resize(image,(img_height, img_width), interpolation=cv2.INTER_CUBIC)\n",
    "    \n",
    "\n",
    "    # If channel order of network does not match open cv format swap it\n",
    "    if K.image_data_format() == 'channels_first':\n",
    "        image=np.swapaxes(np.swapaxes(image, 1, 2), 0, 1)\n",
    "    \n",
    "    # Add image data to temp data array and normalise\n",
    "    X_data_part[j] = image    \n",
    "    X_data_part[j] = X_data_part[j]/255\n",
    "    j+=1\n",
    "    # Add label to temp label array\n",
    "    lb = moves[image_file[-6]]\n",
    "        \n",
    "    y_data_part = np.append(y_data_part, lb)\n",
    "    \n",
    "    # After 4 images are read they are reshaped and stored in data array\n",
    "    if(j == 4):\n",
    "        X_data[k] = X_data_part.reshape(150,150,4)\n",
    "        k+=1\n",
    "        y_data = np.append(y_data, y_data_part[0])\n",
    "        X_data_part = np.ndarray((4, 1, input_shape[1], input_shape[0]), dtype=np.float)\n",
    "        y_data_part= np.ndarray(0, dtype=np.str)\n",
    "        j=0\n",
    "\n",
    "\n",
    "    if i%1000 == 0: print('Processed {} Images'.format(i))\n",
    "    # just to limit the data to 10k images\n",
    "    if i == 10000:break;\n",
    "        \n"
   ]
  },
  {
   "cell_type": "markdown",
   "metadata": {},
   "source": [
    "Plot the distribution of the class"
   ]
  },
  {
   "cell_type": "code",
   "execution_count": 8,
   "metadata": {
    "colab": {
     "base_uri": "https://localhost:8080/",
     "height": 287
    },
    "colab_type": "code",
    "id": "ZdGTKE0TUujp",
    "outputId": "8bd8bd8b-f0b7-45d2-c1cf-479204309682"
   },
   "outputs": [
    {
     "data": {
      "text/plain": [
       "{'left': 1140, 'none': 1181, 'right': 89, 'up': 90}"
      ]
     },
     "execution_count": 8,
     "metadata": {
      "tags": []
     },
     "output_type": "execute_result"
    },
    {
     "data": {
      "image/png": "[encoded data removed]",
      "text/plain": [
       "<Figure size 432x288 with 1 Axes>"
      ]
     },
     "metadata": {
      "tags": []
     },
     "output_type": "display_data"
    }
   ],
   "source": [
    "sns.countplot(y_data)\n",
    "unique, counts = np.unique(y_data, return_counts=True)\n",
    "dict(zip(unique, counts))"
   ]
  },
  {
   "cell_type": "markdown",
   "metadata": {
    "colab_type": "text",
    "id": "CgFNJSANUujw"
   },
   "source": [
    "Balance the classes"
   ]
  },
  {
   "cell_type": "code",
   "execution_count": 0,
   "metadata": {
    "colab": {},
    "colab_type": "code",
    "id": "XThvXr__VlMZ"
   },
   "outputs": [],
   "source": [
    "nsamples, nx, ny,c = X_data.shape\n",
    "\n",
    "ros = RandomOverSampler(return_indices=True)\n",
    "\n",
    "X_resampled, y_resampled,idx_resampled = ros.fit_sample(X_data.reshape(len(X_data), nx*ny*c), y_data)\n",
    "X_resampled, y_resampled = shuffle(X_resampled, y_resampled)\n",
    "X_resampled = X_resampled.reshape((len(X_resampled),nx,ny,c))\n"
   ]
  },
  {
   "cell_type": "code",
   "execution_count": 10,
   "metadata": {
    "colab": {
     "base_uri": "https://localhost:8080/",
     "height": 287
    },
    "colab_type": "code",
    "id": "hjRsR30_Uuj1",
    "outputId": "e87c5e4a-4685-48f7-8d7f-e05138d2e69c"
   },
   "outputs": [
    {
     "data": {
      "text/plain": [
       "{'left': 1181, 'none': 1181, 'right': 1181, 'up': 1181}"
      ]
     },
     "execution_count": 10,
     "metadata": {
      "tags": []
     },
     "output_type": "execute_result"
    },
    {
     "data": {
      "image/png": "[encoded data removed]",
      "text/plain": [
       "<Figure size 432x288 with 1 Axes>"
      ]
     },
     "metadata": {
      "tags": []
     },
     "output_type": "display_data"
    }
   ],
   "source": [
    "sns.countplot(y_resampled)\n",
    "unique, counts = np.unique(y_resampled, return_counts=True)\n",
    "dict(zip(unique, counts))"
   ]
  },
  {
   "cell_type": "markdown",
   "metadata": {
    "colab_type": "text",
    "id": "mD0xSU1wUuj3"
   },
   "source": [
    "Split data"
   ]
  },
  {
   "cell_type": "code",
   "execution_count": 0,
   "metadata": {
    "colab": {},
    "colab_type": "code",
    "id": "Awi03XD3VoP9"
   },
   "outputs": [],
   "source": [
    "# Perfrom split to train, validation, test\n",
    "X_train, X_test, y_train, y_test = train_test_split(X_resampled, y_resampled, random_state=0, test_size = 0.30, train_size = 0.7)"
   ]
  },
  {
   "cell_type": "code",
   "execution_count": 0,
   "metadata": {
    "colab": {},
    "colab_type": "code",
    "id": "P0hSMhA1Vqhe"
   },
   "outputs": [],
   "source": [
    "# Convert class vectors to binary class matrices.\n",
    "num_classes = 4\n",
    "y_train_encoder = sklearn.preprocessing.LabelEncoder()\n",
    "y_train_num = y_train_encoder.fit_transform(y_train)\n",
    "y_train_wide = keras.utils.to_categorical(y_train_num,num_classes)\n",
    "\n",
    "y_test_num = y_train_encoder.fit_transform(y_test)\n",
    "y_test_wide = keras.utils.to_categorical(y_test_num, num_classes)"
   ]
  },
  {
   "cell_type": "markdown",
   "metadata": {},
   "source": [
    "Create model"
   ]
  },
  {
   "cell_type": "code",
   "execution_count": 13,
   "metadata": {
    "colab": {
     "base_uri": "https://localhost:8080/",
     "height": 887
    },
    "colab_type": "code",
    "id": "lQZBYuX5Vuna",
    "outputId": "79bedcb7-dd94-4163-81f0-1b9085fb1a9d"
   },
   "outputs": [
    {
     "name": "stdout",
     "output_type": "stream",
     "text": [
      "WARNING:tensorflow:From /usr/local/lib/python3.6/dist-packages/tensorflow/python/framework/op_def_library.py:263: colocate_with (from tensorflow.python.framework.ops) is deprecated and will be removed in a future version.\n",
      "Instructions for updating:\n",
      "Colocations handled automatically by placer.\n",
      "WARNING:tensorflow:From /usr/local/lib/python3.6/dist-packages/keras/backend/tensorflow_backend.py:3445: calling dropout (from tensorflow.python.ops.nn_ops) with keep_prob is deprecated and will be removed in a future version.\n",
      "Instructions for updating:\n",
      "Please use `rate` instead of `keep_prob`. Rate should be set to `rate = 1 - keep_prob`.\n",
      "_________________________________________________________________\n",
      "Layer (type)                 Output Shape              Param #   \n",
      "=================================================================\n",
      "conv2d_1 (Conv2D)            (None, 148, 148, 32)      1184      \n",
      "_________________________________________________________________\n",
      "activation_1 (Activation)    (None, 148, 148, 32)      0         \n",
      "_________________________________________________________________\n",
      "max_pooling2d_1 (MaxPooling2 (None, 74, 74, 32)        0         \n",
      "_________________________________________________________________\n",
      "conv2d_2 (Conv2D)            (None, 72, 72, 32)        9248      \n",
      "_________________________________________________________________\n",
      "activation_2 (Activation)    (None, 72, 72, 32)        0         \n",
      "_________________________________________________________________\n",
      "max_pooling2d_2 (MaxPooling2 (None, 36, 36, 32)        0         \n",
      "_________________________________________________________________\n",
      "conv2d_3 (Conv2D)            (None, 34, 34, 64)        18496     \n",
      "_________________________________________________________________\n",
      "activation_3 (Activation)    (None, 34, 34, 64)        0         \n",
      "_________________________________________________________________\n",
      "max_pooling2d_3 (MaxPooling2 (None, 17, 17, 64)        0         \n",
      "_________________________________________________________________\n",
      "conv2d_4 (Conv2D)            (None, 15, 15, 64)        36928     \n",
      "_________________________________________________________________\n",
      "activation_4 (Activation)    (None, 15, 15, 64)        0         \n",
      "_________________________________________________________________\n",
      "max_pooling2d_4 (MaxPooling2 (None, 7, 7, 64)          0         \n",
      "_________________________________________________________________\n",
      "flatten_1 (Flatten)          (None, 3136)              0         \n",
      "_________________________________________________________________\n",
      "dense_1 (Dense)              (None, 256)               803072    \n",
      "_________________________________________________________________\n",
      "activation_5 (Activation)    (None, 256)               0         \n",
      "_________________________________________________________________\n",
      "dropout_1 (Dropout)          (None, 256)               0         \n",
      "_________________________________________________________________\n",
      "dense_2 (Dense)              (None, 4)                 1028      \n",
      "_________________________________________________________________\n",
      "activation_6 (Activation)    (None, 4)                 0         \n",
      "=================================================================\n",
      "Total params: 869,956\n",
      "Trainable params: 869,956\n",
      "Non-trainable params: 0\n",
      "_________________________________________________________________\n"
     ]
    }
   ],
   "source": [
    "model = Sequential()\n",
    "model.add(Conv2D(32, (3,3), input_shape=input_shape))\n",
    "model.add(Activation('relu'))\n",
    "model.add(MaxPooling2D(pool_size=(2,2)))\n",
    "\n",
    "model.add(Conv2D(32, (3,3)))\n",
    "model.add(Activation('relu'))\n",
    "model.add(MaxPooling2D(pool_size=(2,2)))\n",
    "\n",
    "model.add(Conv2D(64, (3,3)))\n",
    "model.add(Activation('relu'))\n",
    "model.add(MaxPooling2D(pool_size=(2,2)))\n",
    "\n",
    "model.add(Conv2D(64, (3,3)))\n",
    "model.add(Activation('relu'))\n",
    "model.add(MaxPooling2D(pool_size=(2,2)))\n",
    "\n",
    "model.add(Flatten())\n",
    "model.add(Dense(256))\n",
    "model.add(Activation('relu'))\n",
    "model.add(Dropout(0.5))\n",
    "model.add(Dense(num_classes))\n",
    "model.add(Activation('softmax'))\n",
    "\n",
    "\n",
    "\n",
    "model.compile(loss='binary_crossentropy',\n",
    "              optimizer='adam',\n",
    "              metrics=['accuracy'])\n",
    "\n",
    "model.summary()"
   ]
  },
  {
   "cell_type": "markdown",
   "metadata": {},
   "source": [
    "Fit the model"
   ]
  },
  {
   "cell_type": "code",
   "execution_count": 14,
   "metadata": {
    "colab": {
     "base_uri": "https://localhost:8080/",
     "height": 3573
    },
    "colab_type": "code",
    "id": "spnxlW7MVwCF",
    "outputId": "b1ea21b9-321d-44cd-a805-1b15135b09a5"
   },
   "outputs": [
    {
     "name": "stdout",
     "output_type": "stream",
     "text": [
      "WARNING:tensorflow:From /usr/local/lib/python3.6/dist-packages/tensorflow/python/ops/math_ops.py:3066: to_int32 (from tensorflow.python.ops.math_ops) is deprecated and will be removed in a future version.\n",
      "Instructions for updating:\n",
      "Use tf.cast instead.\n",
      "Train on 2644 samples, validate on 662 samples\n",
      "Epoch 1/100\n",
      "2644/2644 [==============================] - 11s 4ms/step - loss: 0.5677 - acc: 0.7501 - val_loss: 0.5624 - val_acc: 0.7500\n",
      "Epoch 2/100\n",
      "2644/2644 [==============================] - 3s 1ms/step - loss: 0.5624 - acc: 0.7500 - val_loss: 0.5622 - val_acc: 0.7500\n",
      "Epoch 3/100\n",
      "2644/2644 [==============================] - 3s 1ms/step - loss: 0.5616 - acc: 0.7500 - val_loss: 0.5605 - val_acc: 0.7500\n",
      "Epoch 4/100\n",
      "2644/2644 [==============================] - 3s 1ms/step - loss: 0.5581 - acc: 0.7500 - val_loss: 0.5556 - val_acc: 0.7500\n",
      "Epoch 5/100\n",
      "2644/2644 [==============================] - 3s 1ms/step - loss: 0.5384 - acc: 0.7536 - val_loss: 0.5111 - val_acc: 0.7640\n",
      "Epoch 6/100\n",
      "2644/2644 [==============================] - 3s 1ms/step - loss: 0.4733 - acc: 0.7805 - val_loss: 0.4454 - val_acc: 0.7885\n",
      "Epoch 7/100\n",
      "2644/2644 [==============================] - 3s 1ms/step - loss: 0.4103 - acc: 0.8151 - val_loss: 0.4220 - val_acc: 0.8059\n",
      "Epoch 8/100\n",
      "2644/2644 [==============================] - 3s 1ms/step - loss: 0.3417 - acc: 0.8544 - val_loss: 0.3209 - val_acc: 0.8690\n",
      "Epoch 9/100\n",
      "2644/2644 [==============================] - 3s 1ms/step - loss: 0.2581 - acc: 0.8948 - val_loss: 0.2639 - val_acc: 0.8882\n",
      "Epoch 10/100\n",
      "2644/2644 [==============================] - 3s 1ms/step - loss: 0.2062 - acc: 0.9147 - val_loss: 0.2253 - val_acc: 0.9007\n",
      "Epoch 11/100\n",
      "2644/2644 [==============================] - 3s 1ms/step - loss: 0.1706 - acc: 0.9302 - val_loss: 0.2143 - val_acc: 0.9135\n",
      "Epoch 12/100\n",
      "2644/2644 [==============================] - 3s 1ms/step - loss: 0.1434 - acc: 0.9446 - val_loss: 0.2130 - val_acc: 0.9011\n",
      "Epoch 13/100\n",
      "2644/2644 [==============================] - 3s 1ms/step - loss: 0.1209 - acc: 0.9526 - val_loss: 0.2059 - val_acc: 0.9105\n",
      "Epoch 14/100\n",
      "2644/2644 [==============================] - 3s 1ms/step - loss: 0.1064 - acc: 0.9556 - val_loss: 0.2174 - val_acc: 0.9158\n",
      "Epoch 15/100\n",
      "2644/2644 [==============================] - 3s 1ms/step - loss: 0.0907 - acc: 0.9649 - val_loss: 0.2393 - val_acc: 0.9147\n",
      "Epoch 16/100\n",
      "2644/2644 [==============================] - 3s 1ms/step - loss: 0.0779 - acc: 0.9683 - val_loss: 0.2493 - val_acc: 0.9135\n",
      "Epoch 17/100\n",
      "2644/2644 [==============================] - 3s 1ms/step - loss: 0.0680 - acc: 0.9735 - val_loss: 0.2532 - val_acc: 0.8988\n",
      "Epoch 18/100\n",
      "2644/2644 [==============================] - 3s 1ms/step - loss: 0.0756 - acc: 0.9678 - val_loss: 0.2282 - val_acc: 0.9169\n",
      "Epoch 19/100\n",
      "2644/2644 [==============================] - 3s 1ms/step - loss: 0.0569 - acc: 0.9803 - val_loss: 0.3006 - val_acc: 0.8965\n",
      "Epoch 20/100\n",
      "2644/2644 [==============================] - 3s 1ms/step - loss: 0.0485 - acc: 0.9827 - val_loss: 0.2907 - val_acc: 0.9154\n",
      "Epoch 21/100\n",
      "2644/2644 [==============================] - 3s 1ms/step - loss: 0.0440 - acc: 0.9846 - val_loss: 0.2968 - val_acc: 0.9116\n",
      "Epoch 22/100\n",
      "2644/2644 [==============================] - 3s 1ms/step - loss: 0.0321 - acc: 0.9874 - val_loss: 0.2965 - val_acc: 0.9147\n",
      "Epoch 23/100\n",
      "2644/2644 [==============================] - 3s 1ms/step - loss: 0.0288 - acc: 0.9910 - val_loss: 0.3391 - val_acc: 0.9105\n",
      "Epoch 24/100\n",
      "2644/2644 [==============================] - 3s 1ms/step - loss: 0.0263 - acc: 0.9905 - val_loss: 0.3488 - val_acc: 0.9143\n",
      "Epoch 25/100\n",
      "2644/2644 [==============================] - 3s 1ms/step - loss: 0.0277 - acc: 0.9915 - val_loss: 0.3303 - val_acc: 0.9135\n",
      "Epoch 26/100\n",
      "2644/2644 [==============================] - 3s 1ms/step - loss: 0.0198 - acc: 0.9939 - val_loss: 0.3607 - val_acc: 0.9143\n",
      "Epoch 27/100\n",
      "2644/2644 [==============================] - 3s 1ms/step - loss: 0.0176 - acc: 0.9942 - val_loss: 0.3683 - val_acc: 0.9143\n",
      "Epoch 28/100\n",
      "2644/2644 [==============================] - 3s 1ms/step - loss: 0.0156 - acc: 0.9950 - val_loss: 0.3553 - val_acc: 0.9139\n",
      "Epoch 29/100\n",
      "2644/2644 [==============================] - 3s 1ms/step - loss: 0.0171 - acc: 0.9947 - val_loss: 0.3773 - val_acc: 0.9056\n",
      "Epoch 30/100\n",
      "2644/2644 [==============================] - 3s 1ms/step - loss: 0.0210 - acc: 0.9931 - val_loss: 0.3607 - val_acc: 0.9052\n",
      "Epoch 31/100\n",
      "2644/2644 [==============================] - 3s 1ms/step - loss: 0.0164 - acc: 0.9949 - val_loss: 0.4079 - val_acc: 0.9192\n",
      "Epoch 32/100\n",
      "2644/2644 [==============================] - 3s 1ms/step - loss: 0.0165 - acc: 0.9947 - val_loss: 0.3852 - val_acc: 0.9165\n",
      "Epoch 33/100\n",
      "2644/2644 [==============================] - 3s 1ms/step - loss: 0.0108 - acc: 0.9968 - val_loss: 0.4693 - val_acc: 0.9105\n",
      "Epoch 34/100\n",
      "2644/2644 [==============================] - 3s 1ms/step - loss: 0.0094 - acc: 0.9969 - val_loss: 0.4721 - val_acc: 0.9101\n",
      "Epoch 35/100\n",
      "2644/2644 [==============================] - 3s 1ms/step - loss: 0.0099 - acc: 0.9983 - val_loss: 0.4952 - val_acc: 0.9067\n",
      "Epoch 36/100\n",
      "2644/2644 [==============================] - 3s 1ms/step - loss: 0.0096 - acc: 0.9966 - val_loss: 0.4360 - val_acc: 0.9147\n",
      "Epoch 37/100\n",
      "2644/2644 [==============================] - 3s 1ms/step - loss: 0.0073 - acc: 0.9979 - val_loss: 0.4108 - val_acc: 0.9135\n",
      "Epoch 38/100\n",
      "2644/2644 [==============================] - 3s 1ms/step - loss: 0.0074 - acc: 0.9975 - val_loss: 0.4923 - val_acc: 0.9029\n",
      "Epoch 39/100\n",
      "2644/2644 [==============================] - 3s 1ms/step - loss: 0.0114 - acc: 0.9959 - val_loss: 0.4306 - val_acc: 0.9211\n",
      "Epoch 40/100\n",
      "2644/2644 [==============================] - 3s 1ms/step - loss: 0.0087 - acc: 0.9967 - val_loss: 0.4825 - val_acc: 0.9165\n",
      "Epoch 41/100\n",
      "2644/2644 [==============================] - 3s 1ms/step - loss: 0.0075 - acc: 0.9977 - val_loss: 0.5176 - val_acc: 0.9116\n",
      "Epoch 42/100\n",
      "2644/2644 [==============================] - 3s 1ms/step - loss: 0.0141 - acc: 0.9947 - val_loss: 0.3797 - val_acc: 0.9113\n",
      "Epoch 43/100\n",
      "2644/2644 [==============================] - 3s 1ms/step - loss: 0.0090 - acc: 0.9970 - val_loss: 0.4844 - val_acc: 0.9097\n",
      "Epoch 44/100\n",
      "2644/2644 [==============================] - 3s 1ms/step - loss: 0.0076 - acc: 0.9973 - val_loss: 0.4261 - val_acc: 0.9124\n",
      "Epoch 45/100\n",
      "2644/2644 [==============================] - 3s 1ms/step - loss: 0.0062 - acc: 0.9989 - val_loss: 0.5293 - val_acc: 0.9158\n",
      "Epoch 46/100\n",
      "2644/2644 [==============================] - 3s 1ms/step - loss: 0.0073 - acc: 0.9981 - val_loss: 0.5312 - val_acc: 0.9120\n",
      "Epoch 47/100\n",
      "2644/2644 [==============================] - 3s 1ms/step - loss: 0.0172 - acc: 0.9943 - val_loss: 0.4425 - val_acc: 0.9143\n",
      "Epoch 48/100\n",
      "2644/2644 [==============================] - 3s 1ms/step - loss: 0.0119 - acc: 0.9959 - val_loss: 0.4827 - val_acc: 0.9097\n",
      "Epoch 49/100\n",
      "2644/2644 [==============================] - 3s 1ms/step - loss: 0.0140 - acc: 0.9957 - val_loss: 0.4789 - val_acc: 0.9173\n",
      "Epoch 50/100\n",
      "2644/2644 [==============================] - 3s 1ms/step - loss: 0.0130 - acc: 0.9961 - val_loss: 0.4579 - val_acc: 0.9169\n",
      "Epoch 51/100\n",
      "2644/2644 [==============================] - 3s 1ms/step - loss: 0.0104 - acc: 0.9966 - val_loss: 0.5344 - val_acc: 0.9116\n",
      "Epoch 52/100\n",
      "2644/2644 [==============================] - 3s 1ms/step - loss: 0.0062 - acc: 0.9974 - val_loss: 0.5351 - val_acc: 0.9150\n",
      "Epoch 53/100\n",
      "2644/2644 [==============================] - 3s 1ms/step - loss: 0.0083 - acc: 0.9970 - val_loss: 0.5673 - val_acc: 0.9045\n",
      "Epoch 54/100\n",
      "2644/2644 [==============================] - 3s 1ms/step - loss: 0.0078 - acc: 0.9972 - val_loss: 0.5450 - val_acc: 0.9105\n",
      "Epoch 55/100\n",
      "2644/2644 [==============================] - 3s 1ms/step - loss: 0.0081 - acc: 0.9972 - val_loss: 0.5527 - val_acc: 0.9131\n",
      "Epoch 56/100\n",
      "2644/2644 [==============================] - 3s 1ms/step - loss: 0.0123 - acc: 0.9949 - val_loss: 0.5662 - val_acc: 0.9033\n",
      "Epoch 57/100\n",
      "2644/2644 [==============================] - 3s 1ms/step - loss: 0.0133 - acc: 0.9948 - val_loss: 0.5715 - val_acc: 0.9165\n",
      "Epoch 58/100\n",
      "2644/2644 [==============================] - 3s 1ms/step - loss: 0.0138 - acc: 0.9945 - val_loss: 0.5556 - val_acc: 0.9094\n",
      "Epoch 59/100\n",
      "2644/2644 [==============================] - 3s 1ms/step - loss: 0.0062 - acc: 0.9981 - val_loss: 0.5372 - val_acc: 0.9188\n",
      "Epoch 60/100\n",
      "2644/2644 [==============================] - 3s 1ms/step - loss: 0.0047 - acc: 0.9984 - val_loss: 0.6358 - val_acc: 0.9109\n",
      "Epoch 61/100\n",
      "2644/2644 [==============================] - 3s 1ms/step - loss: 0.0033 - acc: 0.9993 - val_loss: 0.5928 - val_acc: 0.9162\n",
      "Epoch 62/100\n",
      "2644/2644 [==============================] - 3s 1ms/step - loss: 0.0030 - acc: 0.9991 - val_loss: 0.6565 - val_acc: 0.9135\n",
      "Epoch 63/100\n",
      "2644/2644 [==============================] - 3s 1ms/step - loss: 0.0044 - acc: 0.9986 - val_loss: 0.6060 - val_acc: 0.9113\n",
      "Epoch 64/100\n",
      "2644/2644 [==============================] - 3s 1ms/step - loss: 0.0029 - acc: 0.9992 - val_loss: 0.6409 - val_acc: 0.9120\n",
      "Epoch 65/100\n",
      "2644/2644 [==============================] - 3s 1ms/step - loss: 0.0061 - acc: 0.9985 - val_loss: 0.6398 - val_acc: 0.9113\n",
      "Epoch 66/100\n",
      "2644/2644 [==============================] - 3s 1ms/step - loss: 0.0046 - acc: 0.9987 - val_loss: 0.6414 - val_acc: 0.9162\n",
      "Epoch 67/100\n",
      "2644/2644 [==============================] - 3s 1ms/step - loss: 0.0035 - acc: 0.9991 - val_loss: 0.6507 - val_acc: 0.9169\n",
      "Epoch 68/100\n",
      "2644/2644 [==============================] - 3s 1ms/step - loss: 0.0090 - acc: 0.9972 - val_loss: 0.6099 - val_acc: 0.9169\n",
      "Epoch 69/100\n",
      "2644/2644 [==============================] - 3s 1ms/step - loss: 0.0129 - acc: 0.9957 - val_loss: 0.5304 - val_acc: 0.9128\n",
      "Epoch 70/100\n",
      "2644/2644 [==============================] - 3s 1ms/step - loss: 0.0087 - acc: 0.9963 - val_loss: 0.5782 - val_acc: 0.9207\n",
      "Epoch 71/100\n",
      "2644/2644 [==============================] - 3s 1ms/step - loss: 0.0065 - acc: 0.9981 - val_loss: 0.5701 - val_acc: 0.9128\n",
      "Epoch 72/100\n",
      "2644/2644 [==============================] - 3s 1ms/step - loss: 0.0036 - acc: 0.9991 - val_loss: 0.6425 - val_acc: 0.9086\n",
      "Epoch 73/100\n",
      "2644/2644 [==============================] - 3s 1ms/step - loss: 0.0030 - acc: 0.9992 - val_loss: 0.6904 - val_acc: 0.9033\n",
      "Epoch 74/100\n",
      "2644/2644 [==============================] - 3s 1ms/step - loss: 0.0047 - acc: 0.9984 - val_loss: 0.6304 - val_acc: 0.9071\n",
      "Epoch 75/100\n",
      "2644/2644 [==============================] - 3s 1ms/step - loss: 0.0028 - acc: 0.9995 - val_loss: 0.6855 - val_acc: 0.9109\n",
      "Epoch 76/100\n",
      "2644/2644 [==============================] - 3s 1ms/step - loss: 0.0015 - acc: 0.9996 - val_loss: 0.6824 - val_acc: 0.9150\n",
      "Epoch 77/100\n",
      "2644/2644 [==============================] - 3s 1ms/step - loss: 0.0034 - acc: 0.9991 - val_loss: 0.6586 - val_acc: 0.9105\n",
      "Epoch 78/100\n",
      "2644/2644 [==============================] - 3s 1ms/step - loss: 0.0036 - acc: 0.9991 - val_loss: 0.6357 - val_acc: 0.9158\n",
      "Epoch 79/100\n",
      "2644/2644 [==============================] - 3s 1ms/step - loss: 0.0052 - acc: 0.9985 - val_loss: 0.6782 - val_acc: 0.9097\n",
      "Epoch 80/100\n",
      "2644/2644 [==============================] - 3s 1ms/step - loss: 0.0054 - acc: 0.9985 - val_loss: 0.6965 - val_acc: 0.9067\n",
      "Epoch 81/100\n",
      "2644/2644 [==============================] - 3s 1ms/step - loss: 0.0079 - acc: 0.9977 - val_loss: 0.6111 - val_acc: 0.9124\n",
      "Epoch 82/100\n",
      "2644/2644 [==============================] - 3s 1ms/step - loss: 0.0098 - acc: 0.9968 - val_loss: 0.5841 - val_acc: 0.9094\n",
      "Epoch 83/100\n",
      "2644/2644 [==============================] - 3s 1ms/step - loss: 0.0107 - acc: 0.9958 - val_loss: 0.5886 - val_acc: 0.9071\n",
      "Epoch 84/100\n",
      "2644/2644 [==============================] - 3s 1ms/step - loss: 0.0089 - acc: 0.9966 - val_loss: 0.5938 - val_acc: 0.9147\n",
      "Epoch 85/100\n",
      "2644/2644 [==============================] - 3s 1ms/step - loss: 0.0123 - acc: 0.9957 - val_loss: 0.5566 - val_acc: 0.9181\n",
      "Epoch 86/100\n",
      "2644/2644 [==============================] - 3s 1ms/step - loss: 0.0063 - acc: 0.9978 - val_loss: 0.5691 - val_acc: 0.9162\n",
      "Epoch 87/100\n",
      "2644/2644 [==============================] - 3s 1ms/step - loss: 0.0049 - acc: 0.9985 - val_loss: 0.5733 - val_acc: 0.9207\n",
      "Epoch 88/100\n",
      "2644/2644 [==============================] - 3s 1ms/step - loss: 0.0076 - acc: 0.9966 - val_loss: 0.6131 - val_acc: 0.9139\n",
      "Epoch 89/100\n",
      "2644/2644 [==============================] - 3s 1ms/step - loss: 0.0091 - acc: 0.9972 - val_loss: 0.5259 - val_acc: 0.9211\n",
      "Epoch 90/100\n",
      "2644/2644 [==============================] - 3s 1ms/step - loss: 0.0077 - acc: 0.9975 - val_loss: 0.5135 - val_acc: 0.9143\n",
      "Epoch 91/100\n",
      "2644/2644 [==============================] - 3s 1ms/step - loss: 0.0043 - acc: 0.9983 - val_loss: 0.5709 - val_acc: 0.9192\n",
      "Epoch 92/100\n",
      "2644/2644 [==============================] - 3s 1ms/step - loss: 0.0039 - acc: 0.9989 - val_loss: 0.5917 - val_acc: 0.9169\n",
      "Epoch 93/100\n",
      "2644/2644 [==============================] - 3s 1ms/step - loss: 0.0038 - acc: 0.9991 - val_loss: 0.6200 - val_acc: 0.9147\n",
      "Epoch 94/100\n",
      "2644/2644 [==============================] - 3s 1ms/step - loss: 0.0014 - acc: 0.9996 - val_loss: 0.6273 - val_acc: 0.9181\n",
      "Epoch 95/100\n",
      "2644/2644 [==============================] - 3s 1ms/step - loss: 0.0013 - acc: 0.9996 - val_loss: 0.7005 - val_acc: 0.9150\n",
      "Epoch 96/100\n",
      "2644/2644 [==============================] - 3s 1ms/step - loss: 7.9653e-04 - acc: 0.9998 - val_loss: 0.7095 - val_acc: 0.9139\n",
      "Epoch 97/100\n",
      "2644/2644 [==============================] - 3s 1ms/step - loss: 0.0022 - acc: 0.9991 - val_loss: 0.6884 - val_acc: 0.9135\n",
      "Epoch 98/100\n",
      "2644/2644 [==============================] - 3s 1ms/step - loss: 0.0044 - acc: 0.9983 - val_loss: 0.6548 - val_acc: 0.9147\n",
      "Epoch 99/100\n",
      "2644/2644 [==============================] - 3s 1ms/step - loss: 0.0087 - acc: 0.9972 - val_loss: 0.6266 - val_acc: 0.9211\n",
      "Epoch 100/100\n",
      "2644/2644 [==============================] - 3s 1ms/step - loss: 0.0109 - acc: 0.9955 - val_loss: 0.6511 - val_acc: 0.9147\n"
     ]
    }
   ],
   "source": [
    "class_weights = class_weight.compute_class_weight('balanced',\n",
    "                                                 np.unique(y_train),\n",
    "                                                 y_train)\n",
    "\n",
    "# Set up the callback to save the best model based on validation data\n",
    "best_weights_filepath = './best_weights_notebook21.hdf51'\n",
    "mcp = ModelCheckpoint(best_weights_filepath, monitor=\"val_acc\",\n",
    "                      save_best_only=True, save_weights_only=False)\n",
    "\n",
    "\n",
    "history = model.fit(X_train, y_train_wide,\n",
    "          batch_size=batch_size,\n",
    "          epochs=epochs,\n",
    "          verbose = 1,\n",
    "          validation_split = 0.2,\n",
    "          shuffle=True,\n",
    "          callbacks=[mcp],\n",
    "           class_weight=class_weights)\n",
    "\n",
    "#reload best weights\n",
    "model.load_weights(best_weights_filepath)"
   ]
  },
  {
   "cell_type": "markdown",
   "metadata": {},
   "source": [
    "Plot the losses"
   ]
  },
  {
   "cell_type": "code",
   "execution_count": 15,
   "metadata": {
    "colab": {
     "base_uri": "https://localhost:8080/",
     "height": 283
    },
    "colab_type": "code",
    "id": "pNEwouf7VzDz",
    "outputId": "7217bbbd-0482-4404-ca5f-3089a69ac695"
   },
   "outputs": [
    {
     "data": {
      "image/png": "[encoded data removed]",
      "text/plain": [
       "<Figure size 432x288 with 1 Axes>"
      ]
     },
     "metadata": {
      "tags": []
     },
     "output_type": "display_data"
    }
   ],
   "source": [
    "loss = history.history['loss']\n",
    "val_loss = history.history['val_loss']\n",
    "\n",
    "plt.xlabel('Epochs')\n",
    "plt.ylabel('Loss')\n",
    "plt.plot(loss, 'blue', label='Training Loss')\n",
    "plt.plot(val_loss, 'green', label='Validation Loss')\n",
    "plt.xticks(range(0,epochs)[0::5])\n",
    "plt.legend()\n",
    "plt.show()"
   ]
  },
  {
   "cell_type": "markdown",
   "metadata": {},
   "source": [
    "Make prediction and calculate accuracy"
   ]
  },
  {
   "cell_type": "code",
   "execution_count": 18,
   "metadata": {
    "colab": {
     "base_uri": "https://localhost:8080/",
     "height": 312
    },
    "colab_type": "code",
    "id": "OnF1aZW4V1rt",
    "outputId": "855c1089-7736-47fd-d64e-028e424f60ed"
   },
   "outputs": [
    {
     "name": "stdout",
     "output_type": "stream",
     "text": [
      "Accuracy: 0.8561354019746121\n",
      "              precision    recall  f1-score   support\n",
      "\n",
      "           0       0.77      0.68      0.72       358\n",
      "           1       0.72      0.75      0.74       347\n",
      "           2       0.96      0.99      0.97       348\n",
      "           3       0.96      1.00      0.98       365\n",
      "\n",
      "   micro avg       0.86      0.86      0.86      1418\n",
      "   macro avg       0.85      0.86      0.85      1418\n",
      "weighted avg       0.85      0.86      0.85      1418\n",
      "\n",
      "Confusion matrix\n",
      "[[245  96   7  10]\n",
      " [ 73 261   7   6]\n",
      " [  0   5 343   0]\n",
      " [  0   0   0 365]]\n"
     ]
    }
   ],
   "source": [
    "# Make a set of predictions for the test data\n",
    "pred = model.predict_classes(X_test)\n",
    "\n",
    "# Print performance details\n",
    "accuracy = metrics.accuracy_score(y_test_num, pred) # normalize=True, sample_weight=None\n",
    "task_accuracy_comparisons[\"4 Framed Images\"] = accuracy\n",
    "print(\"Accuracy: \" +  str(accuracy))\n",
    "print(metrics.classification_report(y_test_num, pred))\n",
    "print(\"Confusion matrix\")\n",
    "\n",
    "print(metrics.confusion_matrix(y_test_num, pred))"
   ]
  },
  {
   "cell_type": "markdown",
   "metadata": {
    "colab": {},
    "colab_type": "code",
    "id": "m0hAQMFuV4Xo"
   },
   "source": [
    "Save the model"
   ]
  },
  {
   "cell_type": "code",
   "execution_count": 0,
   "metadata": {
    "colab": {},
    "colab_type": "code",
    "id": "xC8tW8fWUukM"
   },
   "outputs": [],
   "source": [
    "model.save(\"model_with_frames.h5\")"
   ]
  },
  {
   "cell_type": "markdown",
   "metadata": {
    "colab_type": "text",
    "id": "Op-pr2ZkUukN"
   },
   "source": [
    "### Comparision of tasks"
   ]
  },
  {
   "cell_type": "code",
   "execution_count": 26,
   "metadata": {
    "colab": {
     "base_uri": "https://localhost:8080/",
     "height": 299
    },
    "colab_type": "code",
    "id": "gHCwHcs6UukO",
    "outputId": "2e8e6700-84e5-4f72-bffe-95936cdcc3f3"
   },
   "outputs": [
    {
     "data": {
      "image/png": "[encoded data removed]",
      "text/plain": [
       "<Figure size 432x288 with 1 Axes>"
      ]
     },
     "metadata": {
      "tags": []
     },
     "output_type": "display_data"
    }
   ],
   "source": [
    "plt.xlim(0, 1.0)\n",
    "_ = plt.barh(range(len(task_accuracy_comparisons)), list(task_accuracy_comparisons.values()), align='center')\n",
    "_ = plt.yticks(range(len(task_accuracy_comparisons)), list(task_accuracy_comparisons.keys()))\n",
    "_ = plt.title(\"Comparision \",fontsize=14)\n",
    "_ = plt.xlabel('Accuracy',fontsize=12)\n",
    "_ = plt.ylabel('Task Name',fontsize=12)\n",
    "_ = plt.tick_params(axis='both', which='major', labelsize=11)\n",
    "#displaying labels for each bar\n",
    "for i, v in enumerate(list(task_accuracy_comparisons.values())):\n",
    "    a=round(v,4)\n",
    "    plt.text(v+0.01 , i , str(a), color='black', fontweight='bold')\n",
    "plt.show()\n"
   ]
  },
  {
   "cell_type": "markdown",
   "metadata": {},
   "source": [
    "# Conclusion"
   ]
  },
  {
   "cell_type": "markdown",
   "metadata": {},
   "source": [
    "It can be observed that reinforcement learning approach was much better, efficient, simple and fast compared to image based learning. Image based learning is computationally expensive. It takes long time for the model to train. \n",
    "In image based learning the screenshots of the game played by an expert was given to the model to classify i.e looking at a particular screenshot which mode the spaceship should take(More of making a classification mode for images). I tried different approaches and got a best model with images turned gray scale and all classes have equal number of samples with kernel size of 3 in a layer of CNN and 4 hidden layers. \n",
    "I got an accuracy of **90%**. But when it was deployed in real word i.e model is told to play the actual game it performed very badly and got **negative** reward after 200 episodes of game. The spaceship was not even flying it was simply falling. The reasons might be that the model is not trained on the images which it gets in actual game and it is not trained on the initial position of the spaceship due to which it makes wrong prediction and the spaceship tilts by an angle. \n",
    "Furthermore, there are no images at angle on which model is trained and hence it performs very poorly. Spaceship was just **crashing**. Initially I tried with single frame trained model and then tried with multiple sequential frames in either cases the model performed poorly. Reasons are simple there were insufficient images or there were not all the images from real world to make the model play the game nicely and smoothly. For Single frame average reward was **-451.00** and for 4 sequential frames average reward was **-177.23**. Sequential frames model had better performance compaired to single frame model.\n",
    "On the other hand reinforcement learning approach gave very good results and got **positive** reward with an average total reward of **178.84** after 200 episodes. In this approach the agent was sent in the real word and was learning on its own by receiving rewards for each action. This approach was fast and computationally inexpensive. After training for 50 thousand number of steps the agent played very well in the real world.    "
   ]
  }
 ],
 "metadata": {
  "accelerator": "GPU",
  "colab": {
   "name": "task1.ipynb",
   "provenance": [],
   "toc_visible": true,
   "version": "0.3.2"
  },
  "kernelspec": {
   "display_name": "Python 3",
   "language": "python",
   "name": "python3"
  },
  "language_info": {
   "codemirror_mode": {
    "name": "ipython",
    "version": 3
   },
   "file_extension": ".py",
   "mimetype": "text/x-python",
   "name": "python",
   "nbconvert_exporter": "python",
   "pygments_lexer": "ipython3",
   "version": "3.6.8"
  }
 },
 "nbformat": 4,
 "nbformat_minor": 1
}
